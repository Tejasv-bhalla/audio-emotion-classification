{
  "nbformat": 4,
  "nbformat_minor": 0,
  "metadata": {
    "colab": {
      "provenance": []
    },
    "kernelspec": {
      "name": "python3",
      "display_name": "Python 3"
    },
    "language_info": {
      "name": "python"
    }
  },
  "cells": [
    {
      "cell_type": "markdown",
      "source": [
        "# **🎵 AUDIO EMOTION CLASSIFICATION USING NEURAL NETWORK**\n",
        "\n",
        "---\n",
        "\n"
      ],
      "metadata": {
        "id": "kUq4li0dwQXg"
      }
    },
    {
      "cell_type": "markdown",
      "source": [
        "<I><h1>Imports and Initial setup</h2>"
      ],
      "metadata": {
        "id": "yS6kQ4UIJ2Jk"
      }
    },
    {
      "cell_type": "code",
      "execution_count": 36,
      "metadata": {
        "id": "VJvf55APzj8z"
      },
      "outputs": [],
      "source": [
        "import os\n",
        "import glob\n",
        "import librosa\n",
        "import librosa.display\n",
        "import numpy as np\n",
        "import pandas as pd\n",
        "import matplotlib.pyplot as plt\n",
        "import seaborn as sns\n",
        "from tqdm import tqdm\n",
        "import IPython.display as ipd\n",
        "from sklearn.model_selection import train_test_split\n",
        "from sklearn.preprocessing import StandardScaler, LabelEncoder, RobustScaler, MinMaxScaler\n",
        "from sklearn.metrics import confusion_matrix, classification_report, f1_score, accuracy_score\n",
        "from imblearn.over_sampling import SMOTE\n",
        "import tensorflow as tf\n",
        "from tensorflow.keras.models import Sequential\n",
        "from tensorflow.keras.layers import Dense, Dropout, BatchNormalization, Conv1D, MaxPooling1D, Flatten, LSTM, Bidirectional\n",
        "from tensorflow.keras.callbacks import EarlyStopping, ReduceLROnPlateau, ModelCheckpoint\n",
        "from tensorflow.keras.utils import to_categorical\n",
        "import joblib\n",
        "import pickle\n",
        "import warnings\n",
        "warnings.filterwarnings('ignore')"
      ]
    },
    {
      "cell_type": "code",
      "source": [
        "from google.colab import drive\n",
        "drive.mount('/content/drive')"
      ],
      "metadata": {
        "colab": {
          "base_uri": "https://localhost:8080/"
        },
        "id": "bwK8lnWq2uMC",
        "outputId": "01fcfef8-59a6-4dce-f32b-1a29e1e06093"
      },
      "execution_count": 37,
      "outputs": [
        {
          "output_type": "stream",
          "name": "stdout",
          "text": [
            "Drive already mounted at /content/drive; to attempt to forcibly remount, call drive.mount(\"/content/drive\", force_remount=True).\n"
          ]
        }
      ]
    },
    {
      "cell_type": "markdown",
      "source": [
        "<I><h3>Filename identifiers<h3>\n",
        "<ol>\n",
        "<li>Modality (01 = full-AV, 02 = video-only, 03 = audio-only).</li>\n",
        "<li>Vocal channel (01 = speech, 02 = song).</li>\n",
        "<li>Emotion (01 = neutral, 02 = calm, 03 = happy, 04 = sad, 05 = angry, 06 = fearful, 07 = disgust, 08 = surprised).</li>\n",
        "<li>Emotional intensity (01 = normal, 02 = strong). NOTE: There is no strong intensity for the 'neutral' emotion.</li>\n",
        "<li>Statement (01 = \"Kids are talking by the door\", 02 = \"Dogs are sitting by the door\").</li>\n",
        "<li>Repetition (01 = 1st repetition, 02 = 2nd repetition).</li>\n",
        "<li>Actor (01 to 24. Odd numbered actors are male, even numbered actors are female).</li>\n"
      ],
      "metadata": {
        "id": "7_Npad1k2Tp9"
      }
    },
    {
      "cell_type": "markdown",
      "source": [
        "<I><h1>Features Extraction & Loading</h1>"
      ],
      "metadata": {
        "id": "1DJ_97tI73bU"
      }
    },
    {
      "cell_type": "code",
      "source": [
        "# Speech & Song file path\n",
        "speech_path = '/content/drive/My Drive/Mars_dataset/Audio_Speech_Actors_01-24'\n",
        "song_path = '/content/drive/My Drive/Mars_dataset/Audio_Song_Actors_01-24'"
      ],
      "metadata": {
        "id": "uy341fACrc8K"
      },
      "execution_count": 38,
      "outputs": []
    },
    {
      "cell_type": "code",
      "source": [
        "#Audio Augmentation\n",
        "def noise(data):\n",
        "    noise_amp = 0.035 * np.random.uniform() * np.amax(data)\n",
        "    return data + noise_amp * np.random.normal(size=data.shape[0])\n",
        "\n",
        "def stretch(data, rate=0.8):\n",
        "    return librosa.effects.time_stretch(data, rate)\n",
        "\n",
        "def shift(data):\n",
        "    shift_range = int(np.random.uniform(low=-5, high=5) * 1000)\n",
        "    return np.roll(data, shift_range)\n",
        "\n",
        "def pitch(data, sr, pitch_factor=0.7):\n",
        "    return librosa.effects.pitch_shift(data, sr, pitch_factor)\n",
        "\n",
        "def augment_audio(y, sr):\n",
        "    augmented = []\n",
        "    for factor in [-2, 2]:\n",
        "        try:\n",
        "            y_pitch = pitch(y, sr, pitch_factor=factor)\n",
        "            augmented.append(y_pitch)\n",
        "        except: pass\n",
        "    for rate in [0.8, 1.2]:\n",
        "        try:\n",
        "            y_stretch = stretch(y, rate)\n",
        "            augmented.append(y_stretch)\n",
        "        except: pass\n",
        "    try:\n",
        "        augmented.append(shift(y))\n",
        "        augmented.append(noise(y))\n",
        "    except: pass\n",
        "    return augmented"
      ],
      "metadata": {
        "id": "s4TwPPdskEKF"
      },
      "execution_count": 39,
      "outputs": []
    },
    {
      "cell_type": "code",
      "source": [
        "# Features Extraction\n",
        "def extract_features(y, sr):\n",
        "    mfcc = librosa.feature.mfcc(y=y, sr=sr, n_mfcc=40)\n",
        "    return np.mean(mfcc.T, axis=0)\n",
        "\n",
        "# Load and extract features with augmentation\n",
        "\n",
        "def load_and_extract_features(dataset_path, augment=True):\n",
        "    features = []\n",
        "    labels = []\n",
        "    for actor_dir in os.listdir(dataset_path):\n",
        "        actor_path = os.path.join(dataset_path, actor_dir)\n",
        "        if not os.path.isdir(actor_path):\n",
        "            continue\n",
        "        for file in os.listdir(actor_path):\n",
        "            if file.endswith('.wav'):\n",
        "                file_path = os.path.join(actor_path, file)\n",
        "                try:\n",
        "                    emotion_code = file.split('-')[2]\n",
        "                    emotion = EMOTION_MAP[emotion_code]\n",
        "                    y, sr = librosa.load(file_path, sr=22050, duration=3)\n",
        "                    features.append(extract_features(y, sr))\n",
        "                    labels.append(emotion)\n",
        "\n",
        "                    if augment and emotion in [\"disgust\", \"neutral\", \"surprised\"]:\n",
        "                        for y_aug in augment_audio(y, sr):\n",
        "                            features.append(extract_features(y_aug, sr))\n",
        "                            labels.append(emotion)\n",
        "                except Exception as e:\n",
        "                    print(f\"Error processing {file_path}: {e}\")\n",
        "    return np.array(features), np.array(labels)\n"
      ],
      "metadata": {
        "id": "sYSGSM-FsI-9"
      },
      "execution_count": 55,
      "outputs": []
    },
    {
      "cell_type": "code",
      "source": [
        "# Emotion mapping\n",
        "EMOTION_MAP = {\n",
        "    '01': 'neutral', '02': 'calm', '03': 'happy',\n",
        "    '04': 'sad', '05': 'angry', '06': 'fearful',\n",
        "    '07': 'disgust', '08': 'surprised'\n",
        "}"
      ],
      "metadata": {
        "id": "nGwg9_3qsWeh"
      },
      "execution_count": 56,
      "outputs": []
    },
    {
      "cell_type": "code",
      "source": [
        "#Loading Features\n",
        "print(\"Loading speech data...\")\n",
        "X_speech, y_speech = load_and_extract_features(speech_path)\n",
        "print(\"Loading song data...\")\n",
        "X_song, y_song = load_and_extract_features(song_path)"
      ],
      "metadata": {
        "colab": {
          "base_uri": "https://localhost:8080/"
        },
        "id": "qHm2P5wjscj9",
        "outputId": "77163820-69ab-49e9-97b8-55bb7306bd09"
      },
      "execution_count": 57,
      "outputs": [
        {
          "output_type": "stream",
          "name": "stdout",
          "text": [
            "Loading speech data...\n",
            "Loading song data...\n"
          ]
        }
      ]
    },
    {
      "cell_type": "code",
      "source": [
        "print(f\"Speech data shape: {X_speech.shape}\")\n",
        "print(f\"Song data shape: {X_song.shape}\")"
      ],
      "metadata": {
        "colab": {
          "base_uri": "https://localhost:8080/"
        },
        "id": "rgOGo5UKx9dq",
        "outputId": "e83dad66-46f2-4fd9-8b9f-4a692c84c32a"
      },
      "execution_count": 58,
      "outputs": [
        {
          "output_type": "stream",
          "name": "stdout",
          "text": [
            "Speech data shape: (2400, 40)\n",
            "Song data shape: (1196, 40)\n"
          ]
        }
      ]
    },
    {
      "cell_type": "code",
      "source": [
        "plt.figure(figsize=(14,6))\n",
        "# Subplot 1: Speech\n",
        "plt.subplot(1, 2, 1)\n",
        "sns.countplot(x=y_speech, palette='rocket', hue=y_speech, legend=False)\n",
        "plt.title(\"Speech Dataset\", fontsize=14)\n",
        "plt.xlabel(\"Emotion\", fontsize=12)\n",
        "plt.ylabel(\"Number of Samples\", fontsize=12)\n",
        "plt.xticks(rotation=45)\n",
        "\n",
        "\n",
        "# Subplot 2: Song\n",
        "plt.subplot(1, 2, 2)\n",
        "sns.countplot(x=y_song, palette='rocket', hue=y_song, legend=False)\n",
        "plt.title(\"Song Dataset\", fontsize=14)\n",
        "plt.xlabel(\"Emotion\", fontsize=12)\n",
        "plt.ylabel(\"Number of Samples\", fontsize=12)\n",
        "plt.xticks(rotation=45)\n",
        "\n",
        "plt.tight_layout()\n",
        "plt.show()"
      ],
      "metadata": {
        "colab": {
          "base_uri": "https://localhost:8080/",
          "height": 508
        },
        "id": "EMbwMKGto5wi",
        "outputId": "ad010014-29cd-48bd-dccc-ec8849c9767d"
      },
      "execution_count": 59,
      "outputs": [
        {
          "output_type": "display_data",
          "data": {
            "text/plain": [
              "<Figure size 1400x600 with 2 Axes>"
            ],
            "image/png": "[encoded data removed]"
          },
          "metadata": {}
        }
      ]
    },
    {
      "cell_type": "code",
      "source": [
        "X = np.vstack((X_speech, X_song))\n",
        "y = np.concatenate((y_speech, y_song))"
      ],
      "metadata": {
        "id": "bnZhJ-jWyxC1"
      },
      "execution_count": 60,
      "outputs": []
    },
    {
      "cell_type": "code",
      "source": [
        "#Saving the extracted features\n",
        "joblib.dump((X, y), \"/content/drive/MyDrive/Mars_dataset/combined_dataset_augmented.joblib\")"
      ],
      "metadata": {
        "colab": {
          "base_uri": "https://localhost:8080/"
        },
        "id": "GM3QmWFwmkBu",
        "outputId": "ae4804b1-6e96-4a8e-c082-7cb3373e5c90"
      },
      "execution_count": 61,
      "outputs": [
        {
          "output_type": "execute_result",
          "data": {
            "text/plain": [
              "['/content/drive/MyDrive/Mars_dataset/combined_dataset_augmented.joblib']"
            ]
          },
          "metadata": {},
          "execution_count": 61
        }
      ]
    },
    {
      "cell_type": "code",
      "source": [
        "X, y = joblib.load(\"/content/drive/MyDrive/Mars_dataset/combined_dataset_augmented.joblib\")"
      ],
      "metadata": {
        "id": "q7a4_2nRtGnA"
      },
      "execution_count": 62,
      "outputs": []
    },
    {
      "cell_type": "code",
      "source": [
        "print(f'\\nAudio samples represented: {X.shape[0]}')\n",
        "print(f'Numerical features extracted per sample: {X.shape[1]}')\n",
        "features_df = pd.DataFrame(X)\n",
        "features_df"
      ],
      "metadata": {
        "colab": {
          "base_uri": "https://localhost:8080/",
          "height": 495
        },
        "id": "pmDViblvtDvT",
        "outputId": "44b1bd07-949d-4e70-efcc-bbfc23e107df"
      },
      "execution_count": 63,
      "outputs": [
        {
          "output_type": "stream",
          "name": "stdout",
          "text": [
            "\n",
            "Audio samples represented: 3596\n",
            "Numerical features extracted per sample: 40\n"
          ]
        },
        {
          "output_type": "execute_result",
          "data": {
            "text/plain": [
              "              0          1          2          3          4          5   \\\n",
              "0    -589.577576  39.144577 -16.843426   2.303287 -10.584874 -14.741841   \n",
              "1    -773.592834  49.743572  -4.863748  11.883783  -3.215301  -8.119396   \n",
              "2    -750.997375  39.390350  -8.463231  12.879881  -4.865152  -9.837699   \n",
              "3    -498.162994  33.618286 -41.688370  -4.331263 -21.510492 -22.606663   \n",
              "4    -768.697388  45.240726   0.894592  11.376676  -1.603046  -5.501791   \n",
              "...          ...        ...        ...        ...        ...        ...   \n",
              "3591 -502.721649  30.540987 -43.021839  11.120656 -20.167742 -13.500096   \n",
              "3592 -419.443024  18.600313 -38.547382   5.136595 -15.849470 -17.996122   \n",
              "3593 -427.619812  30.384157 -42.411541   8.106397 -17.139006 -21.408274   \n",
              "3594 -387.519348  25.708046 -47.041874  15.495656 -23.457232 -18.804970   \n",
              "3595 -512.101562  34.000450 -34.825809   5.823347 -19.691879 -13.347821   \n",
              "\n",
              "             6          7          8          9   ...        30        31  \\\n",
              "0     -6.954549 -18.932184  -6.613478 -11.048788  ... -0.635096  0.976324   \n",
              "1    -11.354217 -12.689713  -5.916297  -6.789598  ... -1.234414  2.732946   \n",
              "2    -11.141600 -13.476465  -5.659172  -6.117455  ...  0.277349  5.049253   \n",
              "3    -12.670688 -21.356344 -12.716095  -3.604951  ...  1.536126  2.702379   \n",
              "4    -10.103149 -13.460706  -4.300888  -1.279601  ...  0.429498  5.086061   \n",
              "...         ...        ...        ...        ...  ...       ...       ...   \n",
              "3591  -6.138659 -17.629124 -10.851589  -2.831831  ... -0.841690  5.929868   \n",
              "3592  -9.713720 -19.882967 -15.570792  -1.875961  ...  0.056547  4.638282   \n",
              "3593  -5.853790 -22.190557 -13.738796  -2.393602  ... -2.566582  3.551807   \n",
              "3594   4.071785 -20.809362  -8.414964  -4.887785  ... -3.759035  6.600002   \n",
              "3595  -3.171474 -16.147364 -13.003536  -4.492423  ... -1.538174  6.553448   \n",
              "\n",
              "            32        33        34        35        36        37        38  \\\n",
              "0    -0.475253  1.594438 -1.203206  1.126217 -0.286180  0.819811 -1.760366   \n",
              "1     2.239492  7.537683  7.514290  7.208450  2.740407  1.282220 -1.521930   \n",
              "2     3.821136  8.263936  6.944689  7.300623  3.900487  2.128975 -0.493518   \n",
              "3     0.501304  0.264041 -3.263350 -0.999669 -1.482429 -0.383433 -1.585323   \n",
              "4     4.631549  9.765402  5.523167  5.665877  2.261629  2.494878  0.968712   \n",
              "...        ...       ...       ...       ...       ...       ...       ...   \n",
              "3591  1.518898 -5.272542 -3.054985  1.721771 -3.737528 -1.250605  2.923730   \n",
              "3592 -1.077554 -3.491588 -2.369030  4.751110 -1.488995 -1.125405  4.504963   \n",
              "3593 -1.144861 -2.627040 -3.473150  2.632978 -0.856800 -0.769435  1.003197   \n",
              "3594  3.869096 -2.370817 -4.380470  2.248428  0.082395 -2.475107 -1.795742   \n",
              "3595  2.163705 -2.059160 -2.035029  0.657884 -2.295973 -0.551767  0.811873   \n",
              "\n",
              "             39  \n",
              "0      0.787399  \n",
              "1      1.368761  \n",
              "2      2.505819  \n",
              "3      0.803831  \n",
              "4      4.738180  \n",
              "...         ...  \n",
              "3591  11.593288  \n",
              "3592  10.241462  \n",
              "3593   6.096525  \n",
              "3594   7.487014  \n",
              "3595   9.355832  \n",
              "\n",
              "[3596 rows x 40 columns]"
            ],
            "text/html": [
              "\n",
              "  <div id=\"df-3f847d5b-d51a-421b-bf1c-6676398160eb\" class=\"colab-df-container\">\n",
              "    <div>\n",
              "<style scoped>\n",
              "    .dataframe tbody tr th:only-of-type {\n",
              "        vertical-align: middle;\n",
              "    }\n",
              "\n",
              "    .dataframe tbody tr th {\n",
              "        vertical-align: top;\n",
              "    }\n",
              "\n",
              "    .dataframe thead th {\n",
              "        text-align: right;\n",
              "    }\n",
              "</style>\n",
              "<table border=\"1\" class=\"dataframe\">\n",
              "  <thead>\n",
              "    <tr style=\"text-align: right;\">\n",
              "      <th></th>\n",
              "      <th>0</th>\n",
              "      <th>1</th>\n",
              "      <th>2</th>\n",
              "      <th>3</th>\n",
              "      <th>4</th>\n",
              "      <th>5</th>\n",
              "      <th>6</th>\n",
              "      <th>7</th>\n",
              "      <th>8</th>\n",
              "      <th>9</th>\n",
              "      <th>...</th>\n",
              "      <th>30</th>\n",
              "      <th>31</th>\n",
              "      <th>32</th>\n",
              "      <th>33</th>\n",
              "      <th>34</th>\n",
              "      <th>35</th>\n",
              "      <th>36</th>\n",
              "      <th>37</th>\n",
              "      <th>38</th>\n",
              "      <th>39</th>\n",
              "    </tr>\n",
              "  </thead>\n",
              "  <tbody>\n",
              "    <tr>\n",
              "      <th>0</th>\n",
              "      <td>-589.577576</td>\n",
              "      <td>39.144577</td>\n",
              "      <td>-16.843426</td>\n",
              "      <td>2.303287</td>\n",
              "      <td>-10.584874</td>\n",
              "      <td>-14.741841</td>\n",
              "      <td>-6.954549</td>\n",
              "      <td>-18.932184</td>\n",
              "      <td>-6.613478</td>\n",
              "      <td>-11.048788</td>\n",
              "      <td>...</td>\n",
              "      <td>-0.635096</td>\n",
              "      <td>0.976324</td>\n",
              "      <td>-0.475253</td>\n",
              "      <td>1.594438</td>\n",
              "      <td>-1.203206</td>\n",
              "      <td>1.126217</td>\n",
              "      <td>-0.286180</td>\n",
              "      <td>0.819811</td>\n",
              "      <td>-1.760366</td>\n",
              "      <td>0.787399</td>\n",
              "    </tr>\n",
              "    <tr>\n",
              "      <th>1</th>\n",
              "      <td>-773.592834</td>\n",
              "      <td>49.743572</td>\n",
              "      <td>-4.863748</td>\n",
              "      <td>11.883783</td>\n",
              "      <td>-3.215301</td>\n",
              "      <td>-8.119396</td>\n",
              "      <td>-11.354217</td>\n",
              "      <td>-12.689713</td>\n",
              "      <td>-5.916297</td>\n",
              "      <td>-6.789598</td>\n",
              "      <td>...</td>\n",
              "      <td>-1.234414</td>\n",
              "      <td>2.732946</td>\n",
              "      <td>2.239492</td>\n",
              "      <td>7.537683</td>\n",
              "      <td>7.514290</td>\n",
              "      <td>7.208450</td>\n",
              "      <td>2.740407</td>\n",
              "      <td>1.282220</td>\n",
              "      <td>-1.521930</td>\n",
              "      <td>1.368761</td>\n",
              "    </tr>\n",
              "    <tr>\n",
              "      <th>2</th>\n",
              "      <td>-750.997375</td>\n",
              "      <td>39.390350</td>\n",
              "      <td>-8.463231</td>\n",
              "      <td>12.879881</td>\n",
              "      <td>-4.865152</td>\n",
              "      <td>-9.837699</td>\n",
              "      <td>-11.141600</td>\n",
              "      <td>-13.476465</td>\n",
              "      <td>-5.659172</td>\n",
              "      <td>-6.117455</td>\n",
              "      <td>...</td>\n",
              "      <td>0.277349</td>\n",
              "      <td>5.049253</td>\n",
              "      <td>3.821136</td>\n",
              "      <td>8.263936</td>\n",
              "      <td>6.944689</td>\n",
              "      <td>7.300623</td>\n",
              "      <td>3.900487</td>\n",
              "      <td>2.128975</td>\n",
              "      <td>-0.493518</td>\n",
              "      <td>2.505819</td>\n",
              "    </tr>\n",
              "    <tr>\n",
              "      <th>3</th>\n",
              "      <td>-498.162994</td>\n",
              "      <td>33.618286</td>\n",
              "      <td>-41.688370</td>\n",
              "      <td>-4.331263</td>\n",
              "      <td>-21.510492</td>\n",
              "      <td>-22.606663</td>\n",
              "      <td>-12.670688</td>\n",
              "      <td>-21.356344</td>\n",
              "      <td>-12.716095</td>\n",
              "      <td>-3.604951</td>\n",
              "      <td>...</td>\n",
              "      <td>1.536126</td>\n",
              "      <td>2.702379</td>\n",
              "      <td>0.501304</td>\n",
              "      <td>0.264041</td>\n",
              "      <td>-3.263350</td>\n",
              "      <td>-0.999669</td>\n",
              "      <td>-1.482429</td>\n",
              "      <td>-0.383433</td>\n",
              "      <td>-1.585323</td>\n",
              "      <td>0.803831</td>\n",
              "    </tr>\n",
              "    <tr>\n",
              "      <th>4</th>\n",
              "      <td>-768.697388</td>\n",
              "      <td>45.240726</td>\n",
              "      <td>0.894592</td>\n",
              "      <td>11.376676</td>\n",
              "      <td>-1.603046</td>\n",
              "      <td>-5.501791</td>\n",
              "      <td>-10.103149</td>\n",
              "      <td>-13.460706</td>\n",
              "      <td>-4.300888</td>\n",
              "      <td>-1.279601</td>\n",
              "      <td>...</td>\n",
              "      <td>0.429498</td>\n",
              "      <td>5.086061</td>\n",
              "      <td>4.631549</td>\n",
              "      <td>9.765402</td>\n",
              "      <td>5.523167</td>\n",
              "      <td>5.665877</td>\n",
              "      <td>2.261629</td>\n",
              "      <td>2.494878</td>\n",
              "      <td>0.968712</td>\n",
              "      <td>4.738180</td>\n",
              "    </tr>\n",
              "    <tr>\n",
              "      <th>...</th>\n",
              "      <td>...</td>\n",
              "      <td>...</td>\n",
              "      <td>...</td>\n",
              "      <td>...</td>\n",
              "      <td>...</td>\n",
              "      <td>...</td>\n",
              "      <td>...</td>\n",
              "      <td>...</td>\n",
              "      <td>...</td>\n",
              "      <td>...</td>\n",
              "      <td>...</td>\n",
              "      <td>...</td>\n",
              "      <td>...</td>\n",
              "      <td>...</td>\n",
              "      <td>...</td>\n",
              "      <td>...</td>\n",
              "      <td>...</td>\n",
              "      <td>...</td>\n",
              "      <td>...</td>\n",
              "      <td>...</td>\n",
              "      <td>...</td>\n",
              "    </tr>\n",
              "    <tr>\n",
              "      <th>3591</th>\n",
              "      <td>-502.721649</td>\n",
              "      <td>30.540987</td>\n",
              "      <td>-43.021839</td>\n",
              "      <td>11.120656</td>\n",
              "      <td>-20.167742</td>\n",
              "      <td>-13.500096</td>\n",
              "      <td>-6.138659</td>\n",
              "      <td>-17.629124</td>\n",
              "      <td>-10.851589</td>\n",
              "      <td>-2.831831</td>\n",
              "      <td>...</td>\n",
              "      <td>-0.841690</td>\n",
              "      <td>5.929868</td>\n",
              "      <td>1.518898</td>\n",
              "      <td>-5.272542</td>\n",
              "      <td>-3.054985</td>\n",
              "      <td>1.721771</td>\n",
              "      <td>-3.737528</td>\n",
              "      <td>-1.250605</td>\n",
              "      <td>2.923730</td>\n",
              "      <td>11.593288</td>\n",
              "    </tr>\n",
              "    <tr>\n",
              "      <th>3592</th>\n",
              "      <td>-419.443024</td>\n",
              "      <td>18.600313</td>\n",
              "      <td>-38.547382</td>\n",
              "      <td>5.136595</td>\n",
              "      <td>-15.849470</td>\n",
              "      <td>-17.996122</td>\n",
              "      <td>-9.713720</td>\n",
              "      <td>-19.882967</td>\n",
              "      <td>-15.570792</td>\n",
              "      <td>-1.875961</td>\n",
              "      <td>...</td>\n",
              "      <td>0.056547</td>\n",
              "      <td>4.638282</td>\n",
              "      <td>-1.077554</td>\n",
              "      <td>-3.491588</td>\n",
              "      <td>-2.369030</td>\n",
              "      <td>4.751110</td>\n",
              "      <td>-1.488995</td>\n",
              "      <td>-1.125405</td>\n",
              "      <td>4.504963</td>\n",
              "      <td>10.241462</td>\n",
              "    </tr>\n",
              "    <tr>\n",
              "      <th>3593</th>\n",
              "      <td>-427.619812</td>\n",
              "      <td>30.384157</td>\n",
              "      <td>-42.411541</td>\n",
              "      <td>8.106397</td>\n",
              "      <td>-17.139006</td>\n",
              "      <td>-21.408274</td>\n",
              "      <td>-5.853790</td>\n",
              "      <td>-22.190557</td>\n",
              "      <td>-13.738796</td>\n",
              "      <td>-2.393602</td>\n",
              "      <td>...</td>\n",
              "      <td>-2.566582</td>\n",
              "      <td>3.551807</td>\n",
              "      <td>-1.144861</td>\n",
              "      <td>-2.627040</td>\n",
              "      <td>-3.473150</td>\n",
              "      <td>2.632978</td>\n",
              "      <td>-0.856800</td>\n",
              "      <td>-0.769435</td>\n",
              "      <td>1.003197</td>\n",
              "      <td>6.096525</td>\n",
              "    </tr>\n",
              "    <tr>\n",
              "      <th>3594</th>\n",
              "      <td>-387.519348</td>\n",
              "      <td>25.708046</td>\n",
              "      <td>-47.041874</td>\n",
              "      <td>15.495656</td>\n",
              "      <td>-23.457232</td>\n",
              "      <td>-18.804970</td>\n",
              "      <td>4.071785</td>\n",
              "      <td>-20.809362</td>\n",
              "      <td>-8.414964</td>\n",
              "      <td>-4.887785</td>\n",
              "      <td>...</td>\n",
              "      <td>-3.759035</td>\n",
              "      <td>6.600002</td>\n",
              "      <td>3.869096</td>\n",
              "      <td>-2.370817</td>\n",
              "      <td>-4.380470</td>\n",
              "      <td>2.248428</td>\n",
              "      <td>0.082395</td>\n",
              "      <td>-2.475107</td>\n",
              "      <td>-1.795742</td>\n",
              "      <td>7.487014</td>\n",
              "    </tr>\n",
              "    <tr>\n",
              "      <th>3595</th>\n",
              "      <td>-512.101562</td>\n",
              "      <td>34.000450</td>\n",
              "      <td>-34.825809</td>\n",
              "      <td>5.823347</td>\n",
              "      <td>-19.691879</td>\n",
              "      <td>-13.347821</td>\n",
              "      <td>-3.171474</td>\n",
              "      <td>-16.147364</td>\n",
              "      <td>-13.003536</td>\n",
              "      <td>-4.492423</td>\n",
              "      <td>...</td>\n",
              "      <td>-1.538174</td>\n",
              "      <td>6.553448</td>\n",
              "      <td>2.163705</td>\n",
              "      <td>-2.059160</td>\n",
              "      <td>-2.035029</td>\n",
              "      <td>0.657884</td>\n",
              "      <td>-2.295973</td>\n",
              "      <td>-0.551767</td>\n",
              "      <td>0.811873</td>\n",
              "      <td>9.355832</td>\n",
              "    </tr>\n",
              "  </tbody>\n",
              "</table>\n",
              "<p>3596 rows × 40 columns</p>\n",
              "</div>\n",
              "    <div class=\"colab-df-buttons\">\n",
              "\n",
              "  <div class=\"colab-df-container\">\n",
              "    <button class=\"colab-df-convert\" onclick=\"convertToInteractive('df-3f847d5b-d51a-421b-bf1c-6676398160eb')\"\n",
              "            title=\"Convert this dataframe to an interactive table.\"\n",
              "            style=\"display:none;\">\n",
              "\n",
              "  <svg xmlns=\"http://www.w3.org/2000/svg\" height=\"24px\" viewBox=\"0 -960 960 960\">\n",
              "    <path d=\"M120-120v-720h720v720H120Zm60-500h600v-160H180v160Zm220 220h160v-160H400v160Zm0 220h160v-160H400v160ZM180-400h160v-160H180v160Zm440 0h160v-160H620v160ZM180-180h160v-160H180v160Zm440 0h160v-160H620v160Z\"/>\n",
              "  </svg>\n",
              "    </button>\n",
              "\n",
              "  <style>\n",
              "    .colab-df-container {\n",
              "      display:flex;\n",
              "      gap: 12px;\n",
              "    }\n",
              "\n",
              "    .colab-df-convert {\n",
              "      background-color: #E8F0FE;\n",
              "      border: none;\n",
              "      border-radius: 50%;\n",
              "      cursor: pointer;\n",
              "      display: none;\n",
              "      fill: #1967D2;\n",
              "      height: 32px;\n",
              "      padding: 0 0 0 0;\n",
              "      width: 32px;\n",
              "    }\n",
              "\n",
              "    .colab-df-convert:hover {\n",
              "      background-color: #E2EBFA;\n",
              "      box-shadow: 0px 1px 2px rgba(60, 64, 67, 0.3), 0px 1px 3px 1px rgba(60, 64, 67, 0.15);\n",
              "      fill: #174EA6;\n",
              "    }\n",
              "\n",
              "    .colab-df-buttons div {\n",
              "      margin-bottom: 4px;\n",
              "    }\n",
              "\n",
              "    [theme=dark] .colab-df-convert {\n",
              "      background-color: #3B4455;\n",
              "      fill: #D2E3FC;\n",
              "    }\n",
              "\n",
              "    [theme=dark] .colab-df-convert:hover {\n",
              "      background-color: #434B5C;\n",
              "      box-shadow: 0px 1px 3px 1px rgba(0, 0, 0, 0.15);\n",
              "      filter: drop-shadow(0px 1px 2px rgba(0, 0, 0, 0.3));\n",
              "      fill: #FFFFFF;\n",
              "    }\n",
              "  </style>\n",
              "\n",
              "    <script>\n",
              "      const buttonEl =\n",
              "        document.querySelector('#df-3f847d5b-d51a-421b-bf1c-6676398160eb button.colab-df-convert');\n",
              "      buttonEl.style.display =\n",
              "        google.colab.kernel.accessAllowed ? 'block' : 'none';\n",
              "\n",
              "      async function convertToInteractive(key) {\n",
              "        const element = document.querySelector('#df-3f847d5b-d51a-421b-bf1c-6676398160eb');\n",
              "        const dataTable =\n",
              "          await google.colab.kernel.invokeFunction('convertToInteractive',\n",
              "                                                    [key], {});\n",
              "        if (!dataTable) return;\n",
              "\n",
              "        const docLinkHtml = 'Like what you see? Visit the ' +\n",
              "          '<a target=\"_blank\" href=https://colab.research.google.com/notebooks/data_table.ipynb>data table notebook</a>'\n",
              "          + ' to learn more about interactive tables.';\n",
              "        element.innerHTML = '';\n",
              "        dataTable['output_type'] = 'display_data';\n",
              "        await google.colab.output.renderOutput(dataTable, element);\n",
              "        const docLink = document.createElement('div');\n",
              "        docLink.innerHTML = docLinkHtml;\n",
              "        element.appendChild(docLink);\n",
              "      }\n",
              "    </script>\n",
              "  </div>\n",
              "\n",
              "\n",
              "    <div id=\"df-9e7a8a1e-c5eb-4db0-990b-2692568915e4\">\n",
              "      <button class=\"colab-df-quickchart\" onclick=\"quickchart('df-9e7a8a1e-c5eb-4db0-990b-2692568915e4')\"\n",
              "                title=\"Suggest charts\"\n",
              "                style=\"display:none;\">\n",
              "\n",
              "<svg xmlns=\"http://www.w3.org/2000/svg\" height=\"24px\"viewBox=\"0 0 24 24\"\n",
              "     width=\"24px\">\n",
              "    <g>\n",
              "        <path d=\"M19 3H5c-1.1 0-2 .9-2 2v14c0 1.1.9 2 2 2h14c1.1 0 2-.9 2-2V5c0-1.1-.9-2-2-2zM9 17H7v-7h2v7zm4 0h-2V7h2v10zm4 0h-2v-4h2v4z\"/>\n",
              "    </g>\n",
              "</svg>\n",
              "      </button>\n",
              "\n",
              "<style>\n",
              "  .colab-df-quickchart {\n",
              "      --bg-color: #E8F0FE;\n",
              "      --fill-color: #1967D2;\n",
              "      --hover-bg-color: #E2EBFA;\n",
              "      --hover-fill-color: #174EA6;\n",
              "      --disabled-fill-color: #AAA;\n",
              "      --disabled-bg-color: #DDD;\n",
              "  }\n",
              "\n",
              "  [theme=dark] .colab-df-quickchart {\n",
              "      --bg-color: #3B4455;\n",
              "      --fill-color: #D2E3FC;\n",
              "      --hover-bg-color: #434B5C;\n",
              "      --hover-fill-color: #FFFFFF;\n",
              "      --disabled-bg-color: #3B4455;\n",
              "      --disabled-fill-color: #666;\n",
              "  }\n",
              "\n",
              "  .colab-df-quickchart {\n",
              "    background-color: var(--bg-color);\n",
              "    border: none;\n",
              "    border-radius: 50%;\n",
              "    cursor: pointer;\n",
              "    display: none;\n",
              "    fill: var(--fill-color);\n",
              "    height: 32px;\n",
              "    padding: 0;\n",
              "    width: 32px;\n",
              "  }\n",
              "\n",
              "  .colab-df-quickchart:hover {\n",
              "    background-color: var(--hover-bg-color);\n",
              "    box-shadow: 0 1px 2px rgba(60, 64, 67, 0.3), 0 1px 3px 1px rgba(60, 64, 67, 0.15);\n",
              "    fill: var(--button-hover-fill-color);\n",
              "  }\n",
              "\n",
              "  .colab-df-quickchart-complete:disabled,\n",
              "  .colab-df-quickchart-complete:disabled:hover {\n",
              "    background-color: var(--disabled-bg-color);\n",
              "    fill: var(--disabled-fill-color);\n",
              "    box-shadow: none;\n",
              "  }\n",
              "\n",
              "  .colab-df-spinner {\n",
              "    border: 2px solid var(--fill-color);\n",
              "    border-color: transparent;\n",
              "    border-bottom-color: var(--fill-color);\n",
              "    animation:\n",
              "      spin 1s steps(1) infinite;\n",
              "  }\n",
              "\n",
              "  @keyframes spin {\n",
              "    0% {\n",
              "      border-color: transparent;\n",
              "      border-bottom-color: var(--fill-color);\n",
              "      border-left-color: var(--fill-color);\n",
              "    }\n",
              "    20% {\n",
              "      border-color: transparent;\n",
              "      border-left-color: var(--fill-color);\n",
              "      border-top-color: var(--fill-color);\n",
              "    }\n",
              "    30% {\n",
              "      border-color: transparent;\n",
              "      border-left-color: var(--fill-color);\n",
              "      border-top-color: var(--fill-color);\n",
              "      border-right-color: var(--fill-color);\n",
              "    }\n",
              "    40% {\n",
              "      border-color: transparent;\n",
              "      border-right-color: var(--fill-color);\n",
              "      border-top-color: var(--fill-color);\n",
              "    }\n",
              "    60% {\n",
              "      border-color: transparent;\n",
              "      border-right-color: var(--fill-color);\n",
              "    }\n",
              "    80% {\n",
              "      border-color: transparent;\n",
              "      border-right-color: var(--fill-color);\n",
              "      border-bottom-color: var(--fill-color);\n",
              "    }\n",
              "    90% {\n",
              "      border-color: transparent;\n",
              "      border-bottom-color: var(--fill-color);\n",
              "    }\n",
              "  }\n",
              "</style>\n",
              "\n",
              "      <script>\n",
              "        async function quickchart(key) {\n",
              "          const quickchartButtonEl =\n",
              "            document.querySelector('#' + key + ' button');\n",
              "          quickchartButtonEl.disabled = true;  // To prevent multiple clicks.\n",
              "          quickchartButtonEl.classList.add('colab-df-spinner');\n",
              "          try {\n",
              "            const charts = await google.colab.kernel.invokeFunction(\n",
              "                'suggestCharts', [key], {});\n",
              "          } catch (error) {\n",
              "            console.error('Error during call to suggestCharts:', error);\n",
              "          }\n",
              "          quickchartButtonEl.classList.remove('colab-df-spinner');\n",
              "          quickchartButtonEl.classList.add('colab-df-quickchart-complete');\n",
              "        }\n",
              "        (() => {\n",
              "          let quickchartButtonEl =\n",
              "            document.querySelector('#df-9e7a8a1e-c5eb-4db0-990b-2692568915e4 button');\n",
              "          quickchartButtonEl.style.display =\n",
              "            google.colab.kernel.accessAllowed ? 'block' : 'none';\n",
              "        })();\n",
              "      </script>\n",
              "    </div>\n",
              "\n",
              "  <div id=\"id_9db71256-d792-4e45-9ddc-2152502a9186\">\n",
              "    <style>\n",
              "      .colab-df-generate {\n",
              "        background-color: #E8F0FE;\n",
              "        border: none;\n",
              "        border-radius: 50%;\n",
              "        cursor: pointer;\n",
              "        display: none;\n",
              "        fill: #1967D2;\n",
              "        height: 32px;\n",
              "        padding: 0 0 0 0;\n",
              "        width: 32px;\n",
              "      }\n",
              "\n",
              "      .colab-df-generate:hover {\n",
              "        background-color: #E2EBFA;\n",
              "        box-shadow: 0px 1px 2px rgba(60, 64, 67, 0.3), 0px 1px 3px 1px rgba(60, 64, 67, 0.15);\n",
              "        fill: #174EA6;\n",
              "      }\n",
              "\n",
              "      [theme=dark] .colab-df-generate {\n",
              "        background-color: #3B4455;\n",
              "        fill: #D2E3FC;\n",
              "      }\n",
              "\n",
              "      [theme=dark] .colab-df-generate:hover {\n",
              "        background-color: #434B5C;\n",
              "        box-shadow: 0px 1px 3px 1px rgba(0, 0, 0, 0.15);\n",
              "        filter: drop-shadow(0px 1px 2px rgba(0, 0, 0, 0.3));\n",
              "        fill: #FFFFFF;\n",
              "      }\n",
              "    </style>\n",
              "    <button class=\"colab-df-generate\" onclick=\"generateWithVariable('features_df')\"\n",
              "            title=\"Generate code using this dataframe.\"\n",
              "            style=\"display:none;\">\n",
              "\n",
              "  <svg xmlns=\"http://www.w3.org/2000/svg\" height=\"24px\"viewBox=\"0 0 24 24\"\n",
              "       width=\"24px\">\n",
              "    <path d=\"M7,19H8.4L18.45,9,17,7.55,7,17.6ZM5,21V16.75L18.45,3.32a2,2,0,0,1,2.83,0l1.4,1.43a1.91,1.91,0,0,1,.58,1.4,1.91,1.91,0,0,1-.58,1.4L9.25,21ZM18.45,9,17,7.55Zm-12,3A5.31,5.31,0,0,0,4.9,8.1,5.31,5.31,0,0,0,1,6.5,5.31,5.31,0,0,0,4.9,4.9,5.31,5.31,0,0,0,6.5,1,5.31,5.31,0,0,0,8.1,4.9,5.31,5.31,0,0,0,12,6.5,5.46,5.46,0,0,0,6.5,12Z\"/>\n",
              "  </svg>\n",
              "    </button>\n",
              "    <script>\n",
              "      (() => {\n",
              "      const buttonEl =\n",
              "        document.querySelector('#id_9db71256-d792-4e45-9ddc-2152502a9186 button.colab-df-generate');\n",
              "      buttonEl.style.display =\n",
              "        google.colab.kernel.accessAllowed ? 'block' : 'none';\n",
              "\n",
              "      buttonEl.onclick = () => {\n",
              "        google.colab.notebook.generateWithVariable('features_df');\n",
              "      }\n",
              "      })();\n",
              "    </script>\n",
              "  </div>\n",
              "\n",
              "    </div>\n",
              "  </div>\n"
            ],
            "application/vnd.google.colaboratory.intrinsic+json": {
              "type": "dataframe",
              "variable_name": "features_df"
            }
          },
          "metadata": {},
          "execution_count": 63
        }
      ]
    },
    {
      "cell_type": "code",
      "source": [
        "plt.figure(figsize=(12,6))\n",
        "# emotion_list, count = np.unique(emotions, return_counts=True)\n",
        "sns.countplot(x= y,palette='rocket',hue=y,legend=False)\n",
        "plt.xlabel('Emotion',fontsize=12)\n",
        "# plt.tick_params(labelsize=16)\n",
        "plt.ylabel('Number of Samples',fontsize=12)\n",
        "plt.show()"
      ],
      "metadata": {
        "colab": {
          "base_uri": "https://localhost:8080/",
          "height": 548
        },
        "id": "FAG-cW8pp0FJ",
        "outputId": "9c4d80cd-9dae-406a-e7fc-996ca5ad8252"
      },
      "execution_count": 64,
      "outputs": [
        {
          "output_type": "display_data",
          "data": {
            "text/plain": [
              "<Figure size 1200x600 with 1 Axes>"
            ],
            "image/png": "[encoded data removed]"
          },
          "metadata": {}
        }
      ]
    },
    {
      "cell_type": "markdown",
      "source": [
        "<i>\n",
        "<h2>DATA PREPROCESSING</h2>"
      ],
      "metadata": {
        "id": "jbKvewM1vl9N"
      }
    },
    {
      "cell_type": "code",
      "source": [
        "# Encode emotion labels\n",
        "le = LabelEncoder()\n",
        "y_encoded = le.fit_transform(y)\n",
        "joblib.dump(le, \"/content/drive/MyDrive/Mars_dataset/label_encoder.pkl\")\n",
        "\n",
        "\n",
        "# Normalize features\n",
        "scaler = StandardScaler()\n",
        "X_scaled = scaler.fit_transform(X)\n",
        "joblib.dump(scaler, \"/content/drive/MyDrive/Mars_dataset/scaler.pkl\")"
      ],
      "metadata": {
        "colab": {
          "base_uri": "https://localhost:8080/"
        },
        "id": "lKuhvPzQynMh",
        "outputId": "8f586a87-5eb9-45a7-b416-dc42525c1725"
      },
      "execution_count": 95,
      "outputs": [
        {
          "output_type": "execute_result",
          "data": {
            "text/plain": [
              "['/content/drive/MyDrive/Mars_dataset/scaler.pkl']"
            ]
          },
          "metadata": {},
          "execution_count": 95
        }
      ]
    },
    {
      "cell_type": "code",
      "source": [
        "# encoder = OneHotEncoder()\n",
        "# y_encoded = encoder.fit_transform(np.array(y).reshape(-1,1)).toarray()"
      ],
      "metadata": {
        "id": "4oDXysuk8iNY"
      },
      "execution_count": 66,
      "outputs": []
    },
    {
      "cell_type": "markdown",
      "source": [
        "Train-Test Split"
      ],
      "metadata": {
        "id": "3jozadXAvyHH"
      }
    },
    {
      "cell_type": "code",
      "source": [
        "# 80/20 train-validation split\n",
        "X_train, X_val, y_train, y_val = train_test_split(\n",
        "    X_scaled, y_encoded,\n",
        "    test_size=0.2,\n",
        "    random_state=42,\n",
        "    shuffle = True\n",
        ")\n",
        "\n",
        "print(f\"Training samples: {X_train.shape[0]}\")\n",
        "print(f\"Validation samples: {X_val.shape[0]}\")"
      ],
      "metadata": {
        "colab": {
          "base_uri": "https://localhost:8080/"
        },
        "id": "aYZE4Otmyzf-",
        "outputId": "b162697a-a734-4b8a-843b-16d77e1234af"
      },
      "execution_count": 68,
      "outputs": [
        {
          "output_type": "stream",
          "name": "stdout",
          "text": [
            "Training samples: 2876\n",
            "Validation samples: 720\n"
          ]
        }
      ]
    },
    {
      "cell_type": "markdown",
      "source": [
        "<I>\n",
        "<h2>MODEL TRAINING"
      ],
      "metadata": {
        "id": "i4fQ3R0_vc_L"
      }
    },
    {
      "cell_type": "code",
      "source": [
        "import tensorflow as tf\n",
        "tf.config.run_functions_eagerly(True)"
      ],
      "metadata": {
        "id": "0wVr58_qpgVL"
      },
      "execution_count": 69,
      "outputs": []
    },
    {
      "cell_type": "code",
      "source": [
        "from tensorflow.keras.models import Sequential\n",
        "from tensorflow.keras.layers import Dense, Dropout, BatchNormalization"
      ],
      "metadata": {
        "id": "aMKC3hNtyK_P"
      },
      "execution_count": 70,
      "outputs": []
    },
    {
      "cell_type": "code",
      "source": [
        "model = Sequential([\n",
        "    Dense(512, activation='relu', input_shape=(X_train.shape[1],)),\n",
        "    BatchNormalization(),\n",
        "    Dropout(0.5),\n",
        "\n",
        "    Dense(256, activation='relu'),\n",
        "    BatchNormalization(),\n",
        "    Dropout(0.4),\n",
        "\n",
        "    Dense(128, activation='relu'),\n",
        "    BatchNormalization(),\n",
        "    Dropout(0.3),\n",
        "\n",
        "    Dense(len(EMOTION_MAP), activation='softmax')\n",
        "])\n",
        "\n",
        "model.compile(\n",
        "    optimizer='adam',\n",
        "    loss='sparse_categorical_crossentropy',\n",
        "    metrics=['accuracy']\n",
        ")\n",
        "model.summary()"
      ],
      "metadata": {
        "colab": {
          "base_uri": "https://localhost:8080/",
          "height": 497
        },
        "id": "M4sHn7nKzNY7",
        "outputId": "4edfa6d8-26ce-4331-eeb4-24ab2b12abe5"
      },
      "execution_count": 91,
      "outputs": [
        {
          "output_type": "display_data",
          "data": {
            "text/plain": [
              "\u001b[1mModel: \"sequential_2\"\u001b[0m\n"
            ],
            "text/html": [
              "<pre style=\"white-space:pre;overflow-x:auto;line-height:normal;font-family:Menlo,'DejaVu Sans Mono',consolas,'Courier New',monospace\"><span style=\"font-weight: bold\">Model: \"sequential_2\"</span>\n",
              "</pre>\n"
            ]
          },
          "metadata": {}
        },
        {
          "output_type": "display_data",
          "data": {
            "text/plain": [
              "┏━━━━━━━━━━━━━━━━━━━━━━━━━━━━━━━━━┳━━━━━━━━━━━━━━━━━━━━━━━━┳━━━━━━━━━━━━━━━┓\n",
              "┃\u001b[1m \u001b[0m\u001b[1mLayer (type)                   \u001b[0m\u001b[1m \u001b[0m┃\u001b[1m \u001b[0m\u001b[1mOutput Shape          \u001b[0m\u001b[1m \u001b[0m┃\u001b[1m \u001b[0m\u001b[1m      Param #\u001b[0m\u001b[1m \u001b[0m┃\n",
              "┡━━━━━━━━━━━━━━━━━━━━━━━━━━━━━━━━━╇━━━━━━━━━━━━━━━━━━━━━━━━╇━━━━━━━━━━━━━━━┩\n",
              "│ dense_8 (\u001b[38;5;33mDense\u001b[0m)                 │ (\u001b[38;5;45mNone\u001b[0m, \u001b[38;5;34m512\u001b[0m)            │        \u001b[38;5;34m20,992\u001b[0m │\n",
              "├─────────────────────────────────┼────────────────────────┼───────────────┤\n",
              "│ batch_normalization_6           │ (\u001b[38;5;45mNone\u001b[0m, \u001b[38;5;34m512\u001b[0m)            │         \u001b[38;5;34m2,048\u001b[0m │\n",
              "│ (\u001b[38;5;33mBatchNormalization\u001b[0m)            │                        │               │\n",
              "├─────────────────────────────────┼────────────────────────┼───────────────┤\n",
              "│ dropout_6 (\u001b[38;5;33mDropout\u001b[0m)             │ (\u001b[38;5;45mNone\u001b[0m, \u001b[38;5;34m512\u001b[0m)            │             \u001b[38;5;34m0\u001b[0m │\n",
              "├─────────────────────────────────┼────────────────────────┼───────────────┤\n",
              "│ dense_9 (\u001b[38;5;33mDense\u001b[0m)                 │ (\u001b[38;5;45mNone\u001b[0m, \u001b[38;5;34m256\u001b[0m)            │       \u001b[38;5;34m131,328\u001b[0m │\n",
              "├─────────────────────────────────┼────────────────────────┼───────────────┤\n",
              "│ batch_normalization_7           │ (\u001b[38;5;45mNone\u001b[0m, \u001b[38;5;34m256\u001b[0m)            │         \u001b[38;5;34m1,024\u001b[0m │\n",
              "│ (\u001b[38;5;33mBatchNormalization\u001b[0m)            │                        │               │\n",
              "├─────────────────────────────────┼────────────────────────┼───────────────┤\n",
              "│ dropout_7 (\u001b[38;5;33mDropout\u001b[0m)             │ (\u001b[38;5;45mNone\u001b[0m, \u001b[38;5;34m256\u001b[0m)            │             \u001b[38;5;34m0\u001b[0m │\n",
              "├─────────────────────────────────┼────────────────────────┼───────────────┤\n",
              "│ dense_10 (\u001b[38;5;33mDense\u001b[0m)                │ (\u001b[38;5;45mNone\u001b[0m, \u001b[38;5;34m128\u001b[0m)            │        \u001b[38;5;34m32,896\u001b[0m │\n",
              "├─────────────────────────────────┼────────────────────────┼───────────────┤\n",
              "│ batch_normalization_8           │ (\u001b[38;5;45mNone\u001b[0m, \u001b[38;5;34m128\u001b[0m)            │           \u001b[38;5;34m512\u001b[0m │\n",
              "│ (\u001b[38;5;33mBatchNormalization\u001b[0m)            │                        │               │\n",
              "├─────────────────────────────────┼────────────────────────┼───────────────┤\n",
              "│ dropout_8 (\u001b[38;5;33mDropout\u001b[0m)             │ (\u001b[38;5;45mNone\u001b[0m, \u001b[38;5;34m128\u001b[0m)            │             \u001b[38;5;34m0\u001b[0m │\n",
              "├─────────────────────────────────┼────────────────────────┼───────────────┤\n",
              "│ dense_11 (\u001b[38;5;33mDense\u001b[0m)                │ (\u001b[38;5;45mNone\u001b[0m, \u001b[38;5;34m8\u001b[0m)              │         \u001b[38;5;34m1,032\u001b[0m │\n",
              "└─────────────────────────────────┴────────────────────────┴───────────────┘\n"
            ],
            "text/html": [
              "<pre style=\"white-space:pre;overflow-x:auto;line-height:normal;font-family:Menlo,'DejaVu Sans Mono',consolas,'Courier New',monospace\">┏━━━━━━━━━━━━━━━━━━━━━━━━━━━━━━━━━┳━━━━━━━━━━━━━━━━━━━━━━━━┳━━━━━━━━━━━━━━━┓\n",
              "┃<span style=\"font-weight: bold\"> Layer (type)                    </span>┃<span style=\"font-weight: bold\"> Output Shape           </span>┃<span style=\"font-weight: bold\">       Param # </span>┃\n",
              "┡━━━━━━━━━━━━━━━━━━━━━━━━━━━━━━━━━╇━━━━━━━━━━━━━━━━━━━━━━━━╇━━━━━━━━━━━━━━━┩\n",
              "│ dense_8 (<span style=\"color: #0087ff; text-decoration-color: #0087ff\">Dense</span>)                 │ (<span style=\"color: #00d7ff; text-decoration-color: #00d7ff\">None</span>, <span style=\"color: #00af00; text-decoration-color: #00af00\">512</span>)            │        <span style=\"color: #00af00; text-decoration-color: #00af00\">20,992</span> │\n",
              "├─────────────────────────────────┼────────────────────────┼───────────────┤\n",
              "│ batch_normalization_6           │ (<span style=\"color: #00d7ff; text-decoration-color: #00d7ff\">None</span>, <span style=\"color: #00af00; text-decoration-color: #00af00\">512</span>)            │         <span style=\"color: #00af00; text-decoration-color: #00af00\">2,048</span> │\n",
              "│ (<span style=\"color: #0087ff; text-decoration-color: #0087ff\">BatchNormalization</span>)            │                        │               │\n",
              "├─────────────────────────────────┼────────────────────────┼───────────────┤\n",
              "│ dropout_6 (<span style=\"color: #0087ff; text-decoration-color: #0087ff\">Dropout</span>)             │ (<span style=\"color: #00d7ff; text-decoration-color: #00d7ff\">None</span>, <span style=\"color: #00af00; text-decoration-color: #00af00\">512</span>)            │             <span style=\"color: #00af00; text-decoration-color: #00af00\">0</span> │\n",
              "├─────────────────────────────────┼────────────────────────┼───────────────┤\n",
              "│ dense_9 (<span style=\"color: #0087ff; text-decoration-color: #0087ff\">Dense</span>)                 │ (<span style=\"color: #00d7ff; text-decoration-color: #00d7ff\">None</span>, <span style=\"color: #00af00; text-decoration-color: #00af00\">256</span>)            │       <span style=\"color: #00af00; text-decoration-color: #00af00\">131,328</span> │\n",
              "├─────────────────────────────────┼────────────────────────┼───────────────┤\n",
              "│ batch_normalization_7           │ (<span style=\"color: #00d7ff; text-decoration-color: #00d7ff\">None</span>, <span style=\"color: #00af00; text-decoration-color: #00af00\">256</span>)            │         <span style=\"color: #00af00; text-decoration-color: #00af00\">1,024</span> │\n",
              "│ (<span style=\"color: #0087ff; text-decoration-color: #0087ff\">BatchNormalization</span>)            │                        │               │\n",
              "├─────────────────────────────────┼────────────────────────┼───────────────┤\n",
              "│ dropout_7 (<span style=\"color: #0087ff; text-decoration-color: #0087ff\">Dropout</span>)             │ (<span style=\"color: #00d7ff; text-decoration-color: #00d7ff\">None</span>, <span style=\"color: #00af00; text-decoration-color: #00af00\">256</span>)            │             <span style=\"color: #00af00; text-decoration-color: #00af00\">0</span> │\n",
              "├─────────────────────────────────┼────────────────────────┼───────────────┤\n",
              "│ dense_10 (<span style=\"color: #0087ff; text-decoration-color: #0087ff\">Dense</span>)                │ (<span style=\"color: #00d7ff; text-decoration-color: #00d7ff\">None</span>, <span style=\"color: #00af00; text-decoration-color: #00af00\">128</span>)            │        <span style=\"color: #00af00; text-decoration-color: #00af00\">32,896</span> │\n",
              "├─────────────────────────────────┼────────────────────────┼───────────────┤\n",
              "│ batch_normalization_8           │ (<span style=\"color: #00d7ff; text-decoration-color: #00d7ff\">None</span>, <span style=\"color: #00af00; text-decoration-color: #00af00\">128</span>)            │           <span style=\"color: #00af00; text-decoration-color: #00af00\">512</span> │\n",
              "│ (<span style=\"color: #0087ff; text-decoration-color: #0087ff\">BatchNormalization</span>)            │                        │               │\n",
              "├─────────────────────────────────┼────────────────────────┼───────────────┤\n",
              "│ dropout_8 (<span style=\"color: #0087ff; text-decoration-color: #0087ff\">Dropout</span>)             │ (<span style=\"color: #00d7ff; text-decoration-color: #00d7ff\">None</span>, <span style=\"color: #00af00; text-decoration-color: #00af00\">128</span>)            │             <span style=\"color: #00af00; text-decoration-color: #00af00\">0</span> │\n",
              "├─────────────────────────────────┼────────────────────────┼───────────────┤\n",
              "│ dense_11 (<span style=\"color: #0087ff; text-decoration-color: #0087ff\">Dense</span>)                │ (<span style=\"color: #00d7ff; text-decoration-color: #00d7ff\">None</span>, <span style=\"color: #00af00; text-decoration-color: #00af00\">8</span>)              │         <span style=\"color: #00af00; text-decoration-color: #00af00\">1,032</span> │\n",
              "└─────────────────────────────────┴────────────────────────┴───────────────┘\n",
              "</pre>\n"
            ]
          },
          "metadata": {}
        },
        {
          "output_type": "display_data",
          "data": {
            "text/plain": [
              "\u001b[1m Total params: \u001b[0m\u001b[38;5;34m189,832\u001b[0m (741.53 KB)\n"
            ],
            "text/html": [
              "<pre style=\"white-space:pre;overflow-x:auto;line-height:normal;font-family:Menlo,'DejaVu Sans Mono',consolas,'Courier New',monospace\"><span style=\"font-weight: bold\"> Total params: </span><span style=\"color: #00af00; text-decoration-color: #00af00\">189,832</span> (741.53 KB)\n",
              "</pre>\n"
            ]
          },
          "metadata": {}
        },
        {
          "output_type": "display_data",
          "data": {
            "text/plain": [
              "\u001b[1m Trainable params: \u001b[0m\u001b[38;5;34m188,040\u001b[0m (734.53 KB)\n"
            ],
            "text/html": [
              "<pre style=\"white-space:pre;overflow-x:auto;line-height:normal;font-family:Menlo,'DejaVu Sans Mono',consolas,'Courier New',monospace\"><span style=\"font-weight: bold\"> Trainable params: </span><span style=\"color: #00af00; text-decoration-color: #00af00\">188,040</span> (734.53 KB)\n",
              "</pre>\n"
            ]
          },
          "metadata": {}
        },
        {
          "output_type": "display_data",
          "data": {
            "text/plain": [
              "\u001b[1m Non-trainable params: \u001b[0m\u001b[38;5;34m1,792\u001b[0m (7.00 KB)\n"
            ],
            "text/html": [
              "<pre style=\"white-space:pre;overflow-x:auto;line-height:normal;font-family:Menlo,'DejaVu Sans Mono',consolas,'Courier New',monospace\"><span style=\"font-weight: bold\"> Non-trainable params: </span><span style=\"color: #00af00; text-decoration-color: #00af00\">1,792</span> (7.00 KB)\n",
              "</pre>\n"
            ]
          },
          "metadata": {}
        }
      ]
    },
    {
      "cell_type": "code",
      "source": [
        "callbacks = [\n",
        "    EarlyStopping(patience=15, restore_best_weights=True),\n",
        "    ReduceLROnPlateau(factor=0.2, patience=5)\n",
        "]\n",
        "\n",
        "history = model.fit(\n",
        "    X_train, y_train,\n",
        "    validation_data=(X_val, y_val),\n",
        "    epochs=100,\n",
        "    batch_size=64,\n",
        "    callbacks=callbacks,\n",
        "    verbose=1\n",
        ")"
      ],
      "metadata": {
        "colab": {
          "base_uri": "https://localhost:8080/"
        },
        "id": "onDj2FQBzhUT",
        "outputId": "febef6a6-0e20-499a-8202-3c91ea26bbf3"
      },
      "execution_count": 72,
      "outputs": [
        {
          "output_type": "stream",
          "name": "stdout",
          "text": [
            "Epoch 1/100\n",
            "\u001b[1m45/45\u001b[0m \u001b[32m━━━━━━━━━━━━━━━━━━━━\u001b[0m\u001b[37m\u001b[0m \u001b[1m5s\u001b[0m 102ms/step - accuracy: 0.2495 - loss: 2.4100 - val_accuracy: 0.4792 - val_loss: 1.6163 - learning_rate: 0.0010\n",
            "Epoch 2/100\n",
            "\u001b[1m45/45\u001b[0m \u001b[32m━━━━━━━━━━━━━━━━━━━━\u001b[0m\u001b[37m\u001b[0m \u001b[1m5s\u001b[0m 104ms/step - accuracy: 0.4663 - loss: 1.5692 - val_accuracy: 0.5208 - val_loss: 1.4465 - learning_rate: 0.0010\n",
            "Epoch 3/100\n",
            "\u001b[1m45/45\u001b[0m \u001b[32m━━━━━━━━━━━━━━━━━━━━\u001b[0m\u001b[37m\u001b[0m \u001b[1m4s\u001b[0m 98ms/step - accuracy: 0.4959 - loss: 1.3815 - val_accuracy: 0.5347 - val_loss: 1.3325 - learning_rate: 0.0010\n",
            "Epoch 4/100\n",
            "\u001b[1m45/45\u001b[0m \u001b[32m━━━━━━━━━━━━━━━━━━━━\u001b[0m\u001b[37m\u001b[0m \u001b[1m6s\u001b[0m 111ms/step - accuracy: 0.5246 - loss: 1.2319 - val_accuracy: 0.5417 - val_loss: 1.2340 - learning_rate: 0.0010\n",
            "Epoch 5/100\n",
            "\u001b[1m45/45\u001b[0m \u001b[32m━━━━━━━━━━━━━━━━━━━━\u001b[0m\u001b[37m\u001b[0m \u001b[1m4s\u001b[0m 99ms/step - accuracy: 0.5556 - loss: 1.1889 - val_accuracy: 0.5750 - val_loss: 1.1382 - learning_rate: 0.0010\n",
            "Epoch 6/100\n",
            "\u001b[1m45/45\u001b[0m \u001b[32m━━━━━━━━━━━━━━━━━━━━\u001b[0m\u001b[37m\u001b[0m \u001b[1m4s\u001b[0m 100ms/step - accuracy: 0.5953 - loss: 1.1018 - val_accuracy: 0.6083 - val_loss: 1.0683 - learning_rate: 0.0010\n",
            "Epoch 7/100\n",
            "\u001b[1m45/45\u001b[0m \u001b[32m━━━━━━━━━━━━━━━━━━━━\u001b[0m\u001b[37m\u001b[0m \u001b[1m5s\u001b[0m 103ms/step - accuracy: 0.6070 - loss: 1.0575 - val_accuracy: 0.6278 - val_loss: 1.0255 - learning_rate: 0.0010\n",
            "Epoch 8/100\n",
            "\u001b[1m45/45\u001b[0m \u001b[32m━━━━━━━━━━━━━━━━━━━━\u001b[0m\u001b[37m\u001b[0m \u001b[1m5s\u001b[0m 98ms/step - accuracy: 0.6361 - loss: 0.9949 - val_accuracy: 0.6319 - val_loss: 0.9934 - learning_rate: 0.0010\n",
            "Epoch 9/100\n",
            "\u001b[1m45/45\u001b[0m \u001b[32m━━━━━━━━━━━━━━━━━━━━\u001b[0m\u001b[37m\u001b[0m \u001b[1m5s\u001b[0m 112ms/step - accuracy: 0.6482 - loss: 0.9553 - val_accuracy: 0.6583 - val_loss: 0.9196 - learning_rate: 0.0010\n",
            "Epoch 10/100\n",
            "\u001b[1m45/45\u001b[0m \u001b[32m━━━━━━━━━━━━━━━━━━━━\u001b[0m\u001b[37m\u001b[0m \u001b[1m4s\u001b[0m 97ms/step - accuracy: 0.6532 - loss: 0.9430 - val_accuracy: 0.6625 - val_loss: 0.9141 - learning_rate: 0.0010\n",
            "Epoch 11/100\n",
            "\u001b[1m45/45\u001b[0m \u001b[32m━━━━━━━━━━━━━━━━━━━━\u001b[0m\u001b[37m\u001b[0m \u001b[1m5s\u001b[0m 102ms/step - accuracy: 0.6748 - loss: 0.8767 - val_accuracy: 0.6917 - val_loss: 0.8411 - learning_rate: 0.0010\n",
            "Epoch 12/100\n",
            "\u001b[1m45/45\u001b[0m \u001b[32m━━━━━━━━━━━━━━━━━━━━\u001b[0m\u001b[37m\u001b[0m \u001b[1m5s\u001b[0m 98ms/step - accuracy: 0.6845 - loss: 0.8457 - val_accuracy: 0.6750 - val_loss: 0.8447 - learning_rate: 0.0010\n",
            "Epoch 13/100\n",
            "\u001b[1m45/45\u001b[0m \u001b[32m━━━━━━━━━━━━━━━━━━━━\u001b[0m\u001b[37m\u001b[0m \u001b[1m5s\u001b[0m 98ms/step - accuracy: 0.6947 - loss: 0.8088 - val_accuracy: 0.7014 - val_loss: 0.8014 - learning_rate: 0.0010\n",
            "Epoch 14/100\n",
            "\u001b[1m45/45\u001b[0m \u001b[32m━━━━━━━━━━━━━━━━━━━━\u001b[0m\u001b[37m\u001b[0m \u001b[1m5s\u001b[0m 111ms/step - accuracy: 0.7026 - loss: 0.7970 - val_accuracy: 0.7194 - val_loss: 0.7728 - learning_rate: 0.0010\n",
            "Epoch 15/100\n",
            "\u001b[1m45/45\u001b[0m \u001b[32m━━━━━━━━━━━━━━━━━━━━\u001b[0m\u001b[37m\u001b[0m \u001b[1m4s\u001b[0m 99ms/step - accuracy: 0.7229 - loss: 0.7626 - val_accuracy: 0.7194 - val_loss: 0.7646 - learning_rate: 0.0010\n",
            "Epoch 16/100\n",
            "\u001b[1m45/45\u001b[0m \u001b[32m━━━━━━━━━━━━━━━━━━━━\u001b[0m\u001b[37m\u001b[0m \u001b[1m6s\u001b[0m 110ms/step - accuracy: 0.7270 - loss: 0.7392 - val_accuracy: 0.7333 - val_loss: 0.7349 - learning_rate: 0.0010\n",
            "Epoch 17/100\n",
            "\u001b[1m45/45\u001b[0m \u001b[32m━━━━━━━━━━━━━━━━━━━━\u001b[0m\u001b[37m\u001b[0m \u001b[1m4s\u001b[0m 98ms/step - accuracy: 0.7257 - loss: 0.7079 - val_accuracy: 0.7292 - val_loss: 0.7275 - learning_rate: 0.0010\n",
            "Epoch 18/100\n",
            "\u001b[1m45/45\u001b[0m \u001b[32m━━━━━━━━━━━━━━━━━━━━\u001b[0m\u001b[37m\u001b[0m \u001b[1m4s\u001b[0m 97ms/step - accuracy: 0.7367 - loss: 0.7374 - val_accuracy: 0.7444 - val_loss: 0.6884 - learning_rate: 0.0010\n",
            "Epoch 19/100\n",
            "\u001b[1m45/45\u001b[0m \u001b[32m━━━━━━━━━━━━━━━━━━━━\u001b[0m\u001b[37m\u001b[0m \u001b[1m6s\u001b[0m 112ms/step - accuracy: 0.7532 - loss: 0.6824 - val_accuracy: 0.7444 - val_loss: 0.7159 - learning_rate: 0.0010\n",
            "Epoch 20/100\n",
            "\u001b[1m45/45\u001b[0m \u001b[32m━━━━━━━━━━━━━━━━━━━━\u001b[0m\u001b[37m\u001b[0m \u001b[1m4s\u001b[0m 99ms/step - accuracy: 0.7481 - loss: 0.6840 - val_accuracy: 0.7458 - val_loss: 0.6985 - learning_rate: 0.0010\n",
            "Epoch 21/100\n",
            "\u001b[1m45/45\u001b[0m \u001b[32m━━━━━━━━━━━━━━━━━━━━\u001b[0m\u001b[37m\u001b[0m \u001b[1m6s\u001b[0m 111ms/step - accuracy: 0.7558 - loss: 0.6691 - val_accuracy: 0.7486 - val_loss: 0.6647 - learning_rate: 0.0010\n",
            "Epoch 22/100\n",
            "\u001b[1m45/45\u001b[0m \u001b[32m━━━━━━━━━━━━━━━━━━━━\u001b[0m\u001b[37m\u001b[0m \u001b[1m5s\u001b[0m 98ms/step - accuracy: 0.7489 - loss: 0.6687 - val_accuracy: 0.7792 - val_loss: 0.6128 - learning_rate: 0.0010\n",
            "Epoch 23/100\n",
            "\u001b[1m45/45\u001b[0m \u001b[32m━━━━━━━━━━━━━━━━━━━━\u001b[0m\u001b[37m\u001b[0m \u001b[1m5s\u001b[0m 100ms/step - accuracy: 0.7732 - loss: 0.5980 - val_accuracy: 0.7611 - val_loss: 0.6485 - learning_rate: 0.0010\n",
            "Epoch 24/100\n",
            "\u001b[1m45/45\u001b[0m \u001b[32m━━━━━━━━━━━━━━━━━━━━\u001b[0m\u001b[37m\u001b[0m \u001b[1m5s\u001b[0m 104ms/step - accuracy: 0.7870 - loss: 0.5653 - val_accuracy: 0.7750 - val_loss: 0.6312 - learning_rate: 0.0010\n",
            "Epoch 25/100\n",
            "\u001b[1m45/45\u001b[0m \u001b[32m━━━━━━━━━━━━━━━━━━━━\u001b[0m\u001b[37m\u001b[0m \u001b[1m5s\u001b[0m 99ms/step - accuracy: 0.7865 - loss: 0.6164 - val_accuracy: 0.7806 - val_loss: 0.6074 - learning_rate: 0.0010\n",
            "Epoch 26/100\n",
            "\u001b[1m45/45\u001b[0m \u001b[32m━━━━━━━━━━━━━━━━━━━━\u001b[0m\u001b[37m\u001b[0m \u001b[1m5s\u001b[0m 111ms/step - accuracy: 0.7772 - loss: 0.5816 - val_accuracy: 0.7889 - val_loss: 0.6023 - learning_rate: 0.0010\n",
            "Epoch 27/100\n",
            "\u001b[1m45/45\u001b[0m \u001b[32m━━━━━━━━━━━━━━━━━━━━\u001b[0m\u001b[37m\u001b[0m \u001b[1m5s\u001b[0m 97ms/step - accuracy: 0.7960 - loss: 0.5563 - val_accuracy: 0.7653 - val_loss: 0.6164 - learning_rate: 0.0010\n",
            "Epoch 28/100\n",
            "\u001b[1m45/45\u001b[0m \u001b[32m━━━━━━━━━━━━━━━━━━━━\u001b[0m\u001b[37m\u001b[0m \u001b[1m4s\u001b[0m 96ms/step - accuracy: 0.8078 - loss: 0.5198 - val_accuracy: 0.7833 - val_loss: 0.5809 - learning_rate: 0.0010\n",
            "Epoch 29/100\n",
            "\u001b[1m45/45\u001b[0m \u001b[32m━━━━━━━━━━━━━━━━━━━━\u001b[0m\u001b[37m\u001b[0m \u001b[1m5s\u001b[0m 110ms/step - accuracy: 0.8058 - loss: 0.5377 - val_accuracy: 0.8097 - val_loss: 0.5611 - learning_rate: 0.0010\n",
            "Epoch 30/100\n",
            "\u001b[1m45/45\u001b[0m \u001b[32m━━━━━━━━━━━━━━━━━━━━\u001b[0m\u001b[37m\u001b[0m \u001b[1m4s\u001b[0m 95ms/step - accuracy: 0.8088 - loss: 0.5282 - val_accuracy: 0.8014 - val_loss: 0.5764 - learning_rate: 0.0010\n",
            "Epoch 31/100\n",
            "\u001b[1m45/45\u001b[0m \u001b[32m━━━━━━━━━━━━━━━━━━━━\u001b[0m\u001b[37m\u001b[0m \u001b[1m6s\u001b[0m 118ms/step - accuracy: 0.8052 - loss: 0.5433 - val_accuracy: 0.8028 - val_loss: 0.5903 - learning_rate: 0.0010\n",
            "Epoch 32/100\n",
            "\u001b[1m45/45\u001b[0m \u001b[32m━━━━━━━━━━━━━━━━━━━━\u001b[0m\u001b[37m\u001b[0m \u001b[1m4s\u001b[0m 97ms/step - accuracy: 0.8207 - loss: 0.4977 - val_accuracy: 0.8167 - val_loss: 0.5561 - learning_rate: 0.0010\n",
            "Epoch 33/100\n",
            "\u001b[1m45/45\u001b[0m \u001b[32m━━━━━━━━━━━━━━━━━━━━\u001b[0m\u001b[37m\u001b[0m \u001b[1m4s\u001b[0m 98ms/step - accuracy: 0.8128 - loss: 0.5048 - val_accuracy: 0.8028 - val_loss: 0.5735 - learning_rate: 0.0010\n",
            "Epoch 34/100\n",
            "\u001b[1m45/45\u001b[0m \u001b[32m━━━━━━━━━━━━━━━━━━━━\u001b[0m\u001b[37m\u001b[0m \u001b[1m5s\u001b[0m 109ms/step - accuracy: 0.8398 - loss: 0.4561 - val_accuracy: 0.8139 - val_loss: 0.5396 - learning_rate: 0.0010\n",
            "Epoch 35/100\n",
            "\u001b[1m45/45\u001b[0m \u001b[32m━━━━━━━━━━━━━━━━━━━━\u001b[0m\u001b[37m\u001b[0m \u001b[1m5s\u001b[0m 98ms/step - accuracy: 0.8306 - loss: 0.4882 - val_accuracy: 0.8069 - val_loss: 0.5786 - learning_rate: 0.0010\n",
            "Epoch 36/100\n",
            "\u001b[1m45/45\u001b[0m \u001b[32m━━━━━━━━━━━━━━━━━━━━\u001b[0m\u001b[37m\u001b[0m \u001b[1m5s\u001b[0m 112ms/step - accuracy: 0.8214 - loss: 0.4661 - val_accuracy: 0.8194 - val_loss: 0.5481 - learning_rate: 0.0010\n",
            "Epoch 37/100\n",
            "\u001b[1m45/45\u001b[0m \u001b[32m━━━━━━━━━━━━━━━━━━━━\u001b[0m\u001b[37m\u001b[0m \u001b[1m4s\u001b[0m 97ms/step - accuracy: 0.8345 - loss: 0.4563 - val_accuracy: 0.8125 - val_loss: 0.5532 - learning_rate: 0.0010\n",
            "Epoch 38/100\n",
            "\u001b[1m45/45\u001b[0m \u001b[32m━━━━━━━━━━━━━━━━━━━━\u001b[0m\u001b[37m\u001b[0m \u001b[1m4s\u001b[0m 94ms/step - accuracy: 0.8349 - loss: 0.4466 - val_accuracy: 0.8250 - val_loss: 0.5656 - learning_rate: 0.0010\n",
            "Epoch 39/100\n",
            "\u001b[1m45/45\u001b[0m \u001b[32m━━━━━━━━━━━━━━━━━━━━\u001b[0m\u001b[37m\u001b[0m \u001b[1m5s\u001b[0m 111ms/step - accuracy: 0.8514 - loss: 0.4135 - val_accuracy: 0.8319 - val_loss: 0.4954 - learning_rate: 0.0010\n",
            "Epoch 40/100\n",
            "\u001b[1m45/45\u001b[0m \u001b[32m━━━━━━━━━━━━━━━━━━━━\u001b[0m\u001b[37m\u001b[0m \u001b[1m4s\u001b[0m 98ms/step - accuracy: 0.8504 - loss: 0.4098 - val_accuracy: 0.8194 - val_loss: 0.5154 - learning_rate: 0.0010\n",
            "Epoch 41/100\n",
            "\u001b[1m45/45\u001b[0m \u001b[32m━━━━━━━━━━━━━━━━━━━━\u001b[0m\u001b[37m\u001b[0m \u001b[1m6s\u001b[0m 111ms/step - accuracy: 0.8501 - loss: 0.4198 - val_accuracy: 0.8264 - val_loss: 0.5405 - learning_rate: 0.0010\n",
            "Epoch 42/100\n",
            "\u001b[1m45/45\u001b[0m \u001b[32m━━━━━━━━━━━━━━━━━━━━\u001b[0m\u001b[37m\u001b[0m \u001b[1m4s\u001b[0m 97ms/step - accuracy: 0.8549 - loss: 0.4066 - val_accuracy: 0.8194 - val_loss: 0.5483 - learning_rate: 0.0010\n",
            "Epoch 43/100\n",
            "\u001b[1m45/45\u001b[0m \u001b[32m━━━━━━━━━━━━━━━━━━━━\u001b[0m\u001b[37m\u001b[0m \u001b[1m4s\u001b[0m 95ms/step - accuracy: 0.8635 - loss: 0.3907 - val_accuracy: 0.8375 - val_loss: 0.5137 - learning_rate: 0.0010\n",
            "Epoch 44/100\n",
            "\u001b[1m45/45\u001b[0m \u001b[32m━━━━━━━━━━━━━━━━━━━━\u001b[0m\u001b[37m\u001b[0m \u001b[1m5s\u001b[0m 112ms/step - accuracy: 0.8445 - loss: 0.4205 - val_accuracy: 0.8403 - val_loss: 0.5175 - learning_rate: 0.0010\n",
            "Epoch 45/100\n",
            "\u001b[1m45/45\u001b[0m \u001b[32m━━━━━━━━━━━━━━━━━━━━\u001b[0m\u001b[37m\u001b[0m \u001b[1m4s\u001b[0m 98ms/step - accuracy: 0.8685 - loss: 0.3624 - val_accuracy: 0.8431 - val_loss: 0.4981 - learning_rate: 2.0000e-04\n",
            "Epoch 46/100\n",
            "\u001b[1m45/45\u001b[0m \u001b[32m━━━━━━━━━━━━━━━━━━━━\u001b[0m\u001b[37m\u001b[0m \u001b[1m6s\u001b[0m 114ms/step - accuracy: 0.8609 - loss: 0.3641 - val_accuracy: 0.8431 - val_loss: 0.4951 - learning_rate: 2.0000e-04\n",
            "Epoch 47/100\n",
            "\u001b[1m45/45\u001b[0m \u001b[32m━━━━━━━━━━━━━━━━━━━━\u001b[0m\u001b[37m\u001b[0m \u001b[1m9s\u001b[0m 95ms/step - accuracy: 0.8892 - loss: 0.3175 - val_accuracy: 0.8375 - val_loss: 0.4867 - learning_rate: 2.0000e-04\n",
            "Epoch 48/100\n",
            "\u001b[1m45/45\u001b[0m \u001b[32m━━━━━━━━━━━━━━━━━━━━\u001b[0m\u001b[37m\u001b[0m \u001b[1m6s\u001b[0m 106ms/step - accuracy: 0.8551 - loss: 0.3808 - val_accuracy: 0.8458 - val_loss: 0.4791 - learning_rate: 2.0000e-04\n",
            "Epoch 49/100\n",
            "\u001b[1m45/45\u001b[0m \u001b[32m━━━━━━━━━━━━━━━━━━━━\u001b[0m\u001b[37m\u001b[0m \u001b[1m5s\u001b[0m 98ms/step - accuracy: 0.8937 - loss: 0.3128 - val_accuracy: 0.8458 - val_loss: 0.4781 - learning_rate: 2.0000e-04\n",
            "Epoch 50/100\n",
            "\u001b[1m45/45\u001b[0m \u001b[32m━━━━━━━━━━━━━━━━━━━━\u001b[0m\u001b[37m\u001b[0m \u001b[1m5s\u001b[0m 109ms/step - accuracy: 0.8742 - loss: 0.3338 - val_accuracy: 0.8500 - val_loss: 0.4660 - learning_rate: 2.0000e-04\n",
            "Epoch 51/100\n",
            "\u001b[1m45/45\u001b[0m \u001b[32m━━━━━━━━━━━━━━━━━━━━\u001b[0m\u001b[37m\u001b[0m \u001b[1m4s\u001b[0m 97ms/step - accuracy: 0.8711 - loss: 0.3346 - val_accuracy: 0.8431 - val_loss: 0.4624 - learning_rate: 2.0000e-04\n",
            "Epoch 52/100\n",
            "\u001b[1m45/45\u001b[0m \u001b[32m━━━━━━━━━━━━━━━━━━━━\u001b[0m\u001b[37m\u001b[0m \u001b[1m4s\u001b[0m 97ms/step - accuracy: 0.8851 - loss: 0.3230 - val_accuracy: 0.8486 - val_loss: 0.4649 - learning_rate: 2.0000e-04\n",
            "Epoch 53/100\n",
            "\u001b[1m45/45\u001b[0m \u001b[32m━━━━━━━━━━━━━━━━━━━━\u001b[0m\u001b[37m\u001b[0m \u001b[1m5s\u001b[0m 110ms/step - accuracy: 0.8866 - loss: 0.3157 - val_accuracy: 0.8458 - val_loss: 0.4599 - learning_rate: 2.0000e-04\n",
            "Epoch 54/100\n",
            "\u001b[1m45/45\u001b[0m \u001b[32m━━━━━━━━━━━━━━━━━━━━\u001b[0m\u001b[37m\u001b[0m \u001b[1m5s\u001b[0m 98ms/step - accuracy: 0.8754 - loss: 0.3275 - val_accuracy: 0.8486 - val_loss: 0.4689 - learning_rate: 2.0000e-04\n",
            "Epoch 55/100\n",
            "\u001b[1m45/45\u001b[0m \u001b[32m━━━━━━━━━━━━━━━━━━━━\u001b[0m\u001b[37m\u001b[0m \u001b[1m5s\u001b[0m 111ms/step - accuracy: 0.8907 - loss: 0.2930 - val_accuracy: 0.8472 - val_loss: 0.4658 - learning_rate: 2.0000e-04\n",
            "Epoch 56/100\n",
            "\u001b[1m45/45\u001b[0m \u001b[32m━━━━━━━━━━━━━━━━━━━━\u001b[0m\u001b[37m\u001b[0m \u001b[1m4s\u001b[0m 97ms/step - accuracy: 0.8891 - loss: 0.3102 - val_accuracy: 0.8403 - val_loss: 0.4716 - learning_rate: 2.0000e-04\n",
            "Epoch 57/100\n",
            "\u001b[1m45/45\u001b[0m \u001b[32m━━━━━━━━━━━━━━━━━━━━\u001b[0m\u001b[37m\u001b[0m \u001b[1m4s\u001b[0m 99ms/step - accuracy: 0.9003 - loss: 0.3016 - val_accuracy: 0.8472 - val_loss: 0.4695 - learning_rate: 2.0000e-04\n",
            "Epoch 58/100\n",
            "\u001b[1m45/45\u001b[0m \u001b[32m━━━━━━━━━━━━━━━━━━━━\u001b[0m\u001b[37m\u001b[0m \u001b[1m6s\u001b[0m 112ms/step - accuracy: 0.8931 - loss: 0.2987 - val_accuracy: 0.8528 - val_loss: 0.4657 - learning_rate: 2.0000e-04\n",
            "Epoch 59/100\n",
            "\u001b[1m45/45\u001b[0m \u001b[32m━━━━━━━━━━━━━━━━━━━━\u001b[0m\u001b[37m\u001b[0m \u001b[1m4s\u001b[0m 99ms/step - accuracy: 0.8965 - loss: 0.3063 - val_accuracy: 0.8556 - val_loss: 0.4635 - learning_rate: 4.0000e-05\n",
            "Epoch 60/100\n",
            "\u001b[1m45/45\u001b[0m \u001b[32m━━━━━━━━━━━━━━━━━━━━\u001b[0m\u001b[37m\u001b[0m \u001b[1m5s\u001b[0m 110ms/step - accuracy: 0.8972 - loss: 0.2879 - val_accuracy: 0.8556 - val_loss: 0.4637 - learning_rate: 4.0000e-05\n",
            "Epoch 61/100\n",
            "\u001b[1m45/45\u001b[0m \u001b[32m━━━━━━━━━━━━━━━━━━━━\u001b[0m\u001b[37m\u001b[0m \u001b[1m4s\u001b[0m 98ms/step - accuracy: 0.8832 - loss: 0.3001 - val_accuracy: 0.8556 - val_loss: 0.4643 - learning_rate: 4.0000e-05\n",
            "Epoch 62/100\n",
            "\u001b[1m45/45\u001b[0m \u001b[32m━━━━━━━━━━━━━━━━━━━━\u001b[0m\u001b[37m\u001b[0m \u001b[1m4s\u001b[0m 99ms/step - accuracy: 0.8917 - loss: 0.2979 - val_accuracy: 0.8569 - val_loss: 0.4602 - learning_rate: 4.0000e-05\n",
            "Epoch 63/100\n",
            "\u001b[1m45/45\u001b[0m \u001b[32m━━━━━━━━━━━━━━━━━━━━\u001b[0m\u001b[37m\u001b[0m \u001b[1m5s\u001b[0m 112ms/step - accuracy: 0.9043 - loss: 0.2756 - val_accuracy: 0.8583 - val_loss: 0.4589 - learning_rate: 4.0000e-05\n",
            "Epoch 64/100\n",
            "\u001b[1m45/45\u001b[0m \u001b[32m━━━━━━━━━━━━━━━━━━━━\u001b[0m\u001b[37m\u001b[0m \u001b[1m4s\u001b[0m 98ms/step - accuracy: 0.8914 - loss: 0.3110 - val_accuracy: 0.8625 - val_loss: 0.4600 - learning_rate: 4.0000e-05\n",
            "Epoch 65/100\n",
            "\u001b[1m45/45\u001b[0m \u001b[32m━━━━━━━━━━━━━━━━━━━━\u001b[0m\u001b[37m\u001b[0m \u001b[1m5s\u001b[0m 103ms/step - accuracy: 0.8925 - loss: 0.2989 - val_accuracy: 0.8514 - val_loss: 0.4606 - learning_rate: 4.0000e-05\n",
            "Epoch 66/100\n",
            "\u001b[1m45/45\u001b[0m \u001b[32m━━━━━━━━━━━━━━━━━━━━\u001b[0m\u001b[37m\u001b[0m \u001b[1m5s\u001b[0m 100ms/step - accuracy: 0.8891 - loss: 0.3127 - val_accuracy: 0.8528 - val_loss: 0.4584 - learning_rate: 4.0000e-05\n",
            "Epoch 67/100\n",
            "\u001b[1m45/45\u001b[0m \u001b[32m━━━━━━━━━━━━━━━━━━━━\u001b[0m\u001b[37m\u001b[0m \u001b[1m5s\u001b[0m 98ms/step - accuracy: 0.9024 - loss: 0.2712 - val_accuracy: 0.8528 - val_loss: 0.4573 - learning_rate: 4.0000e-05\n",
            "Epoch 68/100\n",
            "\u001b[1m45/45\u001b[0m \u001b[32m━━━━━━━━━━━━━━━━━━━━\u001b[0m\u001b[37m\u001b[0m \u001b[1m5s\u001b[0m 112ms/step - accuracy: 0.8934 - loss: 0.2792 - val_accuracy: 0.8528 - val_loss: 0.4574 - learning_rate: 4.0000e-05\n",
            "Epoch 69/100\n",
            "\u001b[1m45/45\u001b[0m \u001b[32m━━━━━━━━━━━━━━━━━━━━\u001b[0m\u001b[37m\u001b[0m \u001b[1m4s\u001b[0m 99ms/step - accuracy: 0.9027 - loss: 0.2729 - val_accuracy: 0.8542 - val_loss: 0.4555 - learning_rate: 4.0000e-05\n",
            "Epoch 70/100\n",
            "\u001b[1m45/45\u001b[0m \u001b[32m━━━━━━━━━━━━━━━━━━━━\u001b[0m\u001b[37m\u001b[0m \u001b[1m5s\u001b[0m 107ms/step - accuracy: 0.9026 - loss: 0.2858 - val_accuracy: 0.8500 - val_loss: 0.4554 - learning_rate: 4.0000e-05\n",
            "Epoch 71/100\n",
            "\u001b[1m45/45\u001b[0m \u001b[32m━━━━━━━━━━━━━━━━━━━━\u001b[0m\u001b[37m\u001b[0m \u001b[1m5s\u001b[0m 98ms/step - accuracy: 0.9038 - loss: 0.2779 - val_accuracy: 0.8528 - val_loss: 0.4552 - learning_rate: 4.0000e-05\n",
            "Epoch 72/100\n",
            "\u001b[1m45/45\u001b[0m \u001b[32m━━━━━━━━━━━━━━━━━━━━\u001b[0m\u001b[37m\u001b[0m \u001b[1m5s\u001b[0m 98ms/step - accuracy: 0.8898 - loss: 0.2920 - val_accuracy: 0.8569 - val_loss: 0.4558 - learning_rate: 4.0000e-05\n",
            "Epoch 73/100\n",
            "\u001b[1m45/45\u001b[0m \u001b[32m━━━━━━━━━━━━━━━━━━━━\u001b[0m\u001b[37m\u001b[0m \u001b[1m6s\u001b[0m 108ms/step - accuracy: 0.9081 - loss: 0.2632 - val_accuracy: 0.8500 - val_loss: 0.4557 - learning_rate: 4.0000e-05\n",
            "Epoch 74/100\n",
            "\u001b[1m45/45\u001b[0m \u001b[32m━━━━━━━━━━━━━━━━━━━━\u001b[0m\u001b[37m\u001b[0m \u001b[1m5s\u001b[0m 99ms/step - accuracy: 0.8835 - loss: 0.3284 - val_accuracy: 0.8514 - val_loss: 0.4564 - learning_rate: 4.0000e-05\n",
            "Epoch 75/100\n",
            "\u001b[1m45/45\u001b[0m \u001b[32m━━━━━━━━━━━━━━━━━━━━\u001b[0m\u001b[37m\u001b[0m \u001b[1m6s\u001b[0m 111ms/step - accuracy: 0.8912 - loss: 0.3035 - val_accuracy: 0.8528 - val_loss: 0.4579 - learning_rate: 4.0000e-05\n",
            "Epoch 76/100\n",
            "\u001b[1m45/45\u001b[0m \u001b[32m━━━━━━━━━━━━━━━━━━━━\u001b[0m\u001b[37m\u001b[0m \u001b[1m5s\u001b[0m 100ms/step - accuracy: 0.9015 - loss: 0.2756 - val_accuracy: 0.8514 - val_loss: 0.4573 - learning_rate: 4.0000e-05\n",
            "Epoch 77/100\n",
            "\u001b[1m45/45\u001b[0m \u001b[32m━━━━━━━━━━━━━━━━━━━━\u001b[0m\u001b[37m\u001b[0m \u001b[1m5s\u001b[0m 107ms/step - accuracy: 0.8891 - loss: 0.2940 - val_accuracy: 0.8528 - val_loss: 0.4565 - learning_rate: 8.0000e-06\n",
            "Epoch 78/100\n",
            "\u001b[1m45/45\u001b[0m \u001b[32m━━━━━━━━━━━━━━━━━━━━\u001b[0m\u001b[37m\u001b[0m \u001b[1m5s\u001b[0m 101ms/step - accuracy: 0.9114 - loss: 0.2599 - val_accuracy: 0.8542 - val_loss: 0.4568 - learning_rate: 8.0000e-06\n",
            "Epoch 79/100\n",
            "\u001b[1m45/45\u001b[0m \u001b[32m━━━━━━━━━━━━━━━━━━━━\u001b[0m\u001b[37m\u001b[0m \u001b[1m5s\u001b[0m 100ms/step - accuracy: 0.8843 - loss: 0.3067 - val_accuracy: 0.8542 - val_loss: 0.4565 - learning_rate: 8.0000e-06\n",
            "Epoch 80/100\n",
            "\u001b[1m45/45\u001b[0m \u001b[32m━━━━━━━━━━━━━━━━━━━━\u001b[0m\u001b[37m\u001b[0m \u001b[1m6s\u001b[0m 110ms/step - accuracy: 0.9038 - loss: 0.2819 - val_accuracy: 0.8528 - val_loss: 0.4563 - learning_rate: 8.0000e-06\n",
            "Epoch 81/100\n",
            "\u001b[1m45/45\u001b[0m \u001b[32m━━━━━━━━━━━━━━━━━━━━\u001b[0m\u001b[37m\u001b[0m \u001b[1m5s\u001b[0m 99ms/step - accuracy: 0.8999 - loss: 0.2719 - val_accuracy: 0.8542 - val_loss: 0.4559 - learning_rate: 8.0000e-06\n",
            "Epoch 82/100\n",
            "\u001b[1m45/45\u001b[0m \u001b[32m━━━━━━━━━━━━━━━━━━━━\u001b[0m\u001b[37m\u001b[0m \u001b[1m6s\u001b[0m 110ms/step - accuracy: 0.8935 - loss: 0.2851 - val_accuracy: 0.8542 - val_loss: 0.4559 - learning_rate: 1.6000e-06\n",
            "Epoch 83/100\n",
            "\u001b[1m45/45\u001b[0m \u001b[32m━━━━━━━━━━━━━━━━━━━━\u001b[0m\u001b[37m\u001b[0m \u001b[1m5s\u001b[0m 98ms/step - accuracy: 0.8970 - loss: 0.2889 - val_accuracy: 0.8542 - val_loss: 0.4562 - learning_rate: 1.6000e-06\n",
            "Epoch 84/100\n",
            "\u001b[1m45/45\u001b[0m \u001b[32m━━━━━━━━━━━━━━━━━━━━\u001b[0m\u001b[37m\u001b[0m \u001b[1m5s\u001b[0m 105ms/step - accuracy: 0.9125 - loss: 0.2600 - val_accuracy: 0.8542 - val_loss: 0.4561 - learning_rate: 1.6000e-06\n",
            "Epoch 85/100\n",
            "\u001b[1m45/45\u001b[0m \u001b[32m━━━━━━━━━━━━━━━━━━━━\u001b[0m\u001b[37m\u001b[0m \u001b[1m5s\u001b[0m 101ms/step - accuracy: 0.8946 - loss: 0.2721 - val_accuracy: 0.8528 - val_loss: 0.4551 - learning_rate: 1.6000e-06\n",
            "Epoch 86/100\n",
            "\u001b[1m45/45\u001b[0m \u001b[32m━━━━━━━━━━━━━━━━━━━━\u001b[0m\u001b[37m\u001b[0m \u001b[1m5s\u001b[0m 99ms/step - accuracy: 0.9178 - loss: 0.2533 - val_accuracy: 0.8528 - val_loss: 0.4551 - learning_rate: 1.6000e-06\n",
            "Epoch 87/100\n",
            "\u001b[1m45/45\u001b[0m \u001b[32m━━━━━━━━━━━━━━━━━━━━\u001b[0m\u001b[37m\u001b[0m \u001b[1m6s\u001b[0m 110ms/step - accuracy: 0.9008 - loss: 0.2817 - val_accuracy: 0.8542 - val_loss: 0.4552 - learning_rate: 3.2000e-07\n",
            "Epoch 88/100\n",
            "\u001b[1m45/45\u001b[0m \u001b[32m━━━━━━━━━━━━━━━━━━━━\u001b[0m\u001b[37m\u001b[0m \u001b[1m4s\u001b[0m 98ms/step - accuracy: 0.8881 - loss: 0.2957 - val_accuracy: 0.8514 - val_loss: 0.4553 - learning_rate: 3.2000e-07\n",
            "Epoch 89/100\n",
            "\u001b[1m45/45\u001b[0m \u001b[32m━━━━━━━━━━━━━━━━━━━━\u001b[0m\u001b[37m\u001b[0m \u001b[1m6s\u001b[0m 110ms/step - accuracy: 0.8925 - loss: 0.2920 - val_accuracy: 0.8514 - val_loss: 0.4554 - learning_rate: 3.2000e-07\n",
            "Epoch 90/100\n",
            "\u001b[1m45/45\u001b[0m \u001b[32m━━━━━━━━━━━━━━━━━━━━\u001b[0m\u001b[37m\u001b[0m \u001b[1m4s\u001b[0m 99ms/step - accuracy: 0.8917 - loss: 0.3017 - val_accuracy: 0.8514 - val_loss: 0.4560 - learning_rate: 3.2000e-07\n",
            "Epoch 91/100\n",
            "\u001b[1m45/45\u001b[0m \u001b[32m━━━━━━━━━━━━━━━━━━━━\u001b[0m\u001b[37m\u001b[0m \u001b[1m4s\u001b[0m 96ms/step - accuracy: 0.8998 - loss: 0.2822 - val_accuracy: 0.8514 - val_loss: 0.4564 - learning_rate: 3.2000e-07\n",
            "Epoch 92/100\n",
            "\u001b[1m45/45\u001b[0m \u001b[32m━━━━━━━━━━━━━━━━━━━━\u001b[0m\u001b[37m\u001b[0m \u001b[1m5s\u001b[0m 110ms/step - accuracy: 0.9047 - loss: 0.2617 - val_accuracy: 0.8528 - val_loss: 0.4566 - learning_rate: 6.4000e-08\n",
            "Epoch 93/100\n",
            "\u001b[1m45/45\u001b[0m \u001b[32m━━━━━━━━━━━━━━━━━━━━\u001b[0m\u001b[37m\u001b[0m \u001b[1m5s\u001b[0m 100ms/step - accuracy: 0.8808 - loss: 0.3114 - val_accuracy: 0.8556 - val_loss: 0.4573 - learning_rate: 6.4000e-08\n",
            "Epoch 94/100\n",
            "\u001b[1m45/45\u001b[0m \u001b[32m━━━━━━━━━━━━━━━━━━━━\u001b[0m\u001b[37m\u001b[0m \u001b[1m6s\u001b[0m 112ms/step - accuracy: 0.9017 - loss: 0.2782 - val_accuracy: 0.8542 - val_loss: 0.4576 - learning_rate: 6.4000e-08\n",
            "Epoch 95/100\n",
            "\u001b[1m45/45\u001b[0m \u001b[32m━━━━━━━━━━━━━━━━━━━━\u001b[0m\u001b[37m\u001b[0m \u001b[1m5s\u001b[0m 100ms/step - accuracy: 0.9002 - loss: 0.2660 - val_accuracy: 0.8542 - val_loss: 0.4567 - learning_rate: 6.4000e-08\n",
            "Epoch 96/100\n",
            "\u001b[1m45/45\u001b[0m \u001b[32m━━━━━━━━━━━━━━━━━━━━\u001b[0m\u001b[37m\u001b[0m \u001b[1m4s\u001b[0m 99ms/step - accuracy: 0.8900 - loss: 0.3048 - val_accuracy: 0.8528 - val_loss: 0.4556 - learning_rate: 6.4000e-08\n",
            "Epoch 97/100\n",
            "\u001b[1m45/45\u001b[0m \u001b[32m━━━━━━━━━━━━━━━━━━━━\u001b[0m\u001b[37m\u001b[0m \u001b[1m6s\u001b[0m 112ms/step - accuracy: 0.9096 - loss: 0.2644 - val_accuracy: 0.8528 - val_loss: 0.4550 - learning_rate: 1.2800e-08\n",
            "Epoch 98/100\n",
            "\u001b[1m45/45\u001b[0m \u001b[32m━━━━━━━━━━━━━━━━━━━━\u001b[0m\u001b[37m\u001b[0m \u001b[1m4s\u001b[0m 98ms/step - accuracy: 0.8951 - loss: 0.2831 - val_accuracy: 0.8528 - val_loss: 0.4560 - learning_rate: 1.2800e-08\n",
            "Epoch 99/100\n",
            "\u001b[1m45/45\u001b[0m \u001b[32m━━━━━━━━━━━━━━━━━━━━\u001b[0m\u001b[37m\u001b[0m \u001b[1m5s\u001b[0m 114ms/step - accuracy: 0.8884 - loss: 0.2940 - val_accuracy: 0.8528 - val_loss: 0.4560 - learning_rate: 1.2800e-08\n",
            "Epoch 100/100\n",
            "\u001b[1m45/45\u001b[0m \u001b[32m━━━━━━━━━━━━━━━━━━━━\u001b[0m\u001b[37m\u001b[0m \u001b[1m4s\u001b[0m 99ms/step - accuracy: 0.9069 - loss: 0.2701 - val_accuracy: 0.8514 - val_loss: 0.4572 - learning_rate: 1.2800e-08\n"
          ]
        }
      ]
    },
    {
      "cell_type": "code",
      "source": [
        "model.save('/content/drive/MyDrive/Mars_dataset/best_model.h5')\n",
        "model.save('/content/drive/MyDrive/Mars_dataset/best_model.keras')"
      ],
      "metadata": {
        "colab": {
          "base_uri": "https://localhost:8080/"
        },
        "id": "v-d7NwCYtqQg",
        "outputId": "00580350-f323-4f93-dbe8-77913264c94c"
      },
      "execution_count": 92,
      "outputs": [
        {
          "output_type": "stream",
          "name": "stderr",
          "text": [
            "WARNING:absl:You are saving your model as an HDF5 file via `model.save()` or `keras.saving.save_model(model)`. This file format is considered legacy. We recommend using instead the native Keras format, e.g. `model.save('my_model.keras')` or `keras.saving.save_model(model, 'my_model.keras')`. \n"
          ]
        }
      ]
    },
    {
      "cell_type": "code",
      "source": [
        "# Evaluate performance\n",
        "val_loss, val_acc = model.evaluate(X_val, y_val)\n",
        "print(f\"Validation Accuracy: {val_acc*100:.2f}%\")\n",
        "\n",
        "# Plot training history\n",
        "import matplotlib.pyplot as plt\n",
        "plt.figure(figsize=(12, 5))\n",
        "\n",
        "plt.subplot(1, 2, 1)\n",
        "plt.plot(history.history['accuracy'], label='Train')\n",
        "plt.plot(history.history['val_accuracy'], label='Validation')\n",
        "plt.title('Model Accuracy')\n",
        "plt.ylabel('Accuracy')\n",
        "plt.xlabel('Epoch')\n",
        "plt.legend()\n",
        "\n",
        "plt.subplot(1, 2, 2)\n",
        "plt.plot(history.history['loss'], label='Train')\n",
        "plt.plot(history.history['val_loss'], label='Validation')\n",
        "plt.title('Model Loss')\n",
        "plt.ylabel('Loss')\n",
        "plt.xlabel('Epoch')\n",
        "plt.legend()\n",
        "\n",
        "plt.tight_layout()\n",
        "plt.show()\n"
      ],
      "metadata": {
        "colab": {
          "base_uri": "https://localhost:8080/",
          "height": 528
        },
        "id": "eZDqpXzmzszh",
        "outputId": "03755da2-6ab3-4049-83a4-1551a04d4802"
      },
      "execution_count": 74,
      "outputs": [
        {
          "output_type": "stream",
          "name": "stdout",
          "text": [
            "\u001b[1m23/23\u001b[0m \u001b[32m━━━━━━━━━━━━━━━━━━━━\u001b[0m\u001b[37m\u001b[0m \u001b[1m0s\u001b[0m 17ms/step - accuracy: 0.8503 - loss: 0.4904\n",
            "Validation Accuracy: 85.28%\n"
          ]
        },
        {
          "output_type": "display_data",
          "data": {
            "text/plain": [
              "<Figure size 1200x500 with 2 Axes>"
            ],
            "image/png": "[encoded data removed]"
          },
          "metadata": {}
        }
      ]
    },
    {
      "cell_type": "code",
      "source": [
        "# Predict classes and probabilities\n",
        "y_pred = model.predict(X_val)\n",
        "y_pred_classes = np.argmax(y_pred, axis=1)\n",
        "\n",
        "# Overall accuracy\n",
        "accuracy = accuracy_score(y_val, y_pred_classes)\n",
        "print(f\"Overall Accuracy: {accuracy*100:.2f}%\")\n",
        "\n",
        "# F1 scores (macro average)\n",
        "f1 = f1_score(y_val, y_pred_classes, average='macro')\n",
        "print(f\"Macro-average F1 Score: {f1:.4f}\")\n",
        "\n",
        "# Detailed classification report\n",
        "report = classification_report(\n",
        "    y_val,\n",
        "    y_pred_classes,\n",
        "    target_names=le.classes_,\n",
        "    digits=4\n",
        ")\n",
        "print(\"\\nClassification Report:\\n\", report)"
      ],
      "metadata": {
        "colab": {
          "base_uri": "https://localhost:8080/"
        },
        "id": "agPYKjVI0wfw",
        "outputId": "19ce8a72-aa53-45fa-fede-ba61a15d6985"
      },
      "execution_count": 84,
      "outputs": [
        {
          "output_type": "stream",
          "name": "stdout",
          "text": [
            "\u001b[1m23/23\u001b[0m \u001b[32m━━━━━━━━━━━━━━━━━━━━\u001b[0m\u001b[37m\u001b[0m \u001b[1m0s\u001b[0m 18ms/step\n",
            "Overall Accuracy: 85.28%\n",
            "Macro-average F1 Score: 0.8420\n",
            "\n",
            "Classification Report:\n",
            "               precision    recall  f1-score   support\n",
            "\n",
            "       angry     0.9589    0.8537    0.9032        82\n",
            "        calm     0.8974    0.8140    0.8537        86\n",
            "     disgust     0.7795    0.9340    0.8498       106\n",
            "     fearful     0.7500    0.7742    0.7619        62\n",
            "       happy     0.8852    0.7013    0.7826        77\n",
            "     neutral     0.9076    0.9310    0.9191       116\n",
            "         sad     0.8088    0.7432    0.7746        74\n",
            "   surprised     0.8462    0.9402    0.8907       117\n",
            "\n",
            "    accuracy                         0.8528       720\n",
            "   macro avg     0.8542    0.8364    0.8420       720\n",
            "weighted avg     0.8573    0.8528    0.8517       720\n",
            "\n"
          ]
        }
      ]
    },
    {
      "cell_type": "code",
      "source": [
        "# Compute confusion matrix\n",
        "cm = confusion_matrix(y_val, y_pred_classes)\n",
        "\n",
        "# Visualize with seaborn\n",
        "plt.figure(figsize=(12, 8))\n",
        "sns.heatmap(cm, annot=True, fmt='d', cmap='rocket',\n",
        "            xticklabels=le.classes_,\n",
        "            yticklabels=le.classes_)\n",
        "plt.xlabel('Predicted Labels')\n",
        "plt.ylabel('True Labels')\n",
        "plt.title('Confusion Matrix')\n",
        "plt.show()\n"
      ],
      "metadata": {
        "colab": {
          "base_uri": "https://localhost:8080/",
          "height": 718
        },
        "id": "cIlrBWhv1GT5",
        "outputId": "89fd6e76-3b09-4ce0-ac48-2f6fc2e54e08"
      },
      "execution_count": 82,
      "outputs": [
        {
          "output_type": "display_data",
          "data": {
            "text/plain": [
              "<Figure size 1200x800 with 2 Axes>"
            ],
            "image/png": "[encoded data removed]"
          },
          "metadata": {}
        }
      ]
    },
    {
      "cell_type": "code",
      "source": [],
      "metadata": {
        "id": "_6oMPI-3mOcX"
      },
      "execution_count": null,
      "outputs": []
    }
  ]
}